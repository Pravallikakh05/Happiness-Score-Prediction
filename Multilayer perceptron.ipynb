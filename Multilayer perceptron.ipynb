{
  "nbformat": 4,
  "nbformat_minor": 0,
  "metadata": {
    "colab": {
      "name": "Happiness Score Prediction (2015-2019).ipynb",
      "provenance": [],
      "authorship_tag": "ABX9TyNEb0WcG7Yr3CBIS7nkj+Uj"
    },
    "kernelspec": {
      "name": "python3",
      "display_name": "Python 3"
    },
    "language_info": {
      "name": "python"
    }
  },
  "cells": [
    {
      "cell_type": "markdown",
      "metadata": {
        "id": "f8zVslBrwru1"
      },
      "source": [
        "Happiness score reports from 2015-2019"
      ]
    },
    {
      "cell_type": "markdown",
      "metadata": {
        "id": "iqorV6_OyFgd"
      },
      "source": [
        "**Import necessary libraries**"
      ]
    },
    {
      "cell_type": "code",
      "metadata": {
        "id": "W41npWF8RCyv",
        "colab": {
          "base_uri": "https://localhost:8080/",
          "height": 17
        },
        "outputId": "656d5080-22d7-4f60-bfc4-6b8ac2bb5a20"
      },
      "source": [
        "import pandas as pd\n",
        "import numpy as np\n",
        "import matplotlib.pyplot as plt\n",
        "import seaborn as sns\n",
        "import scipy as stats\n",
        "import math\n",
        "import matplotlib.pyplot as plt\n",
        "import matplotlib.gridspec as gridspec\n",
        "from plotly.offline import download_plotlyjs, init_notebook_mode, plot, iplot\n",
        "init_notebook_mode(connected=True)\n",
        "%matplotlib inline\n",
        "import plotly.graph_objs as go\n",
        "\n",
        "# ADVANCED PLOTING\n",
        "import seaborn as seabornInstance\n",
        "\n",
        "# TRAIN TEST SPLIT\n",
        "from sklearn.model_selection import train_test_split\n",
        "# STATS\n",
        "from sklearn import datasets, metrics\n",
        "from sklearn.metrics import mean_squared_error\n",
        "from sklearn.linear_model import LinearRegression\n",
        "from sklearn.model_selection import cross_val_score\n",
        "\n"
      ],
      "execution_count": 1,
      "outputs": [
        {
          "output_type": "display_data",
          "data": {
            "text/html": [
              "        <script type=\"text/javascript\">\n",
              "        window.PlotlyConfig = {MathJaxConfig: 'local'};\n",
              "        if (window.MathJax) {MathJax.Hub.Config({SVG: {font: \"STIX-Web\"}});}\n",
              "        if (typeof require !== 'undefined') {\n",
              "        require.undef(\"plotly\");\n",
              "        requirejs.config({\n",
              "            paths: {\n",
              "                'plotly': ['https://cdn.plot.ly/plotly-latest.min']\n",
              "            }\n",
              "        });\n",
              "        require(['plotly'], function(Plotly) {\n",
              "            window._Plotly = Plotly;\n",
              "        });\n",
              "        }\n",
              "        </script>\n",
              "        "
            ]
          },
          "metadata": {
            "tags": []
          }
        }
      ]
    },
    {
      "cell_type": "markdown",
      "metadata": {
        "id": "40w3ZiXA6vPJ"
      },
      "source": [
        "\n",
        "Download all the datasets for the years 2015-2019 from https://www.kaggle.com/unsdsn/world-happiness?select=2015.csv"
      ]
    },
    {
      "cell_type": "code",
      "metadata": {
        "id": "XuGxnURLyIOa"
      },
      "source": [
        "#Load the data\n",
        "dataset2015 = pd.read_csv('2015.csv')\n",
        "dataset2016 = pd.read_csv('2016.csv')\n",
        "dataset2017 = pd.read_csv('2017.csv')\n",
        "dataset2018 = pd.read_csv('2018.csv')\n",
        "dataset2019 = pd.read_csv('2019.csv')"
      ],
      "execution_count": 2,
      "outputs": []
    },
    {
      "cell_type": "markdown",
      "metadata": {
        "id": "NoqAv6_H76y_"
      },
      "source": [
        "Examine the datasets to identify the common predictor coulmns."
      ]
    },
    {
      "cell_type": "code",
      "metadata": {
        "colab": {
          "base_uri": "https://localhost:8080/",
          "height": 306
        },
        "id": "1n39hEdO6o__",
        "outputId": "79562bf7-8152-4b06-99f2-3878817a92ec"
      },
      "source": [
        "dataset2015.head(5)"
      ],
      "execution_count": null,
      "outputs": [
        {
          "output_type": "execute_result",
          "data": {
            "text/html": [
              "<div>\n",
              "<style scoped>\n",
              "    .dataframe tbody tr th:only-of-type {\n",
              "        vertical-align: middle;\n",
              "    }\n",
              "\n",
              "    .dataframe tbody tr th {\n",
              "        vertical-align: top;\n",
              "    }\n",
              "\n",
              "    .dataframe thead th {\n",
              "        text-align: right;\n",
              "    }\n",
              "</style>\n",
              "<table border=\"1\" class=\"dataframe\">\n",
              "  <thead>\n",
              "    <tr style=\"text-align: right;\">\n",
              "      <th></th>\n",
              "      <th>Country</th>\n",
              "      <th>Region</th>\n",
              "      <th>Happiness Rank</th>\n",
              "      <th>Happiness Score</th>\n",
              "      <th>Standard Error</th>\n",
              "      <th>Economy (GDP per Capita)</th>\n",
              "      <th>Family</th>\n",
              "      <th>Health (Life Expectancy)</th>\n",
              "      <th>Freedom</th>\n",
              "      <th>Trust (Government Corruption)</th>\n",
              "      <th>Generosity</th>\n",
              "      <th>Dystopia Residual</th>\n",
              "    </tr>\n",
              "  </thead>\n",
              "  <tbody>\n",
              "    <tr>\n",
              "      <th>0</th>\n",
              "      <td>Switzerland</td>\n",
              "      <td>Western Europe</td>\n",
              "      <td>1</td>\n",
              "      <td>7.587</td>\n",
              "      <td>0.03411</td>\n",
              "      <td>1.39651</td>\n",
              "      <td>1.34951</td>\n",
              "      <td>0.94143</td>\n",
              "      <td>0.66557</td>\n",
              "      <td>0.41978</td>\n",
              "      <td>0.29678</td>\n",
              "      <td>2.51738</td>\n",
              "    </tr>\n",
              "    <tr>\n",
              "      <th>1</th>\n",
              "      <td>Iceland</td>\n",
              "      <td>Western Europe</td>\n",
              "      <td>2</td>\n",
              "      <td>7.561</td>\n",
              "      <td>0.04884</td>\n",
              "      <td>1.30232</td>\n",
              "      <td>1.40223</td>\n",
              "      <td>0.94784</td>\n",
              "      <td>0.62877</td>\n",
              "      <td>0.14145</td>\n",
              "      <td>0.43630</td>\n",
              "      <td>2.70201</td>\n",
              "    </tr>\n",
              "    <tr>\n",
              "      <th>2</th>\n",
              "      <td>Denmark</td>\n",
              "      <td>Western Europe</td>\n",
              "      <td>3</td>\n",
              "      <td>7.527</td>\n",
              "      <td>0.03328</td>\n",
              "      <td>1.32548</td>\n",
              "      <td>1.36058</td>\n",
              "      <td>0.87464</td>\n",
              "      <td>0.64938</td>\n",
              "      <td>0.48357</td>\n",
              "      <td>0.34139</td>\n",
              "      <td>2.49204</td>\n",
              "    </tr>\n",
              "    <tr>\n",
              "      <th>3</th>\n",
              "      <td>Norway</td>\n",
              "      <td>Western Europe</td>\n",
              "      <td>4</td>\n",
              "      <td>7.522</td>\n",
              "      <td>0.03880</td>\n",
              "      <td>1.45900</td>\n",
              "      <td>1.33095</td>\n",
              "      <td>0.88521</td>\n",
              "      <td>0.66973</td>\n",
              "      <td>0.36503</td>\n",
              "      <td>0.34699</td>\n",
              "      <td>2.46531</td>\n",
              "    </tr>\n",
              "    <tr>\n",
              "      <th>4</th>\n",
              "      <td>Canada</td>\n",
              "      <td>North America</td>\n",
              "      <td>5</td>\n",
              "      <td>7.427</td>\n",
              "      <td>0.03553</td>\n",
              "      <td>1.32629</td>\n",
              "      <td>1.32261</td>\n",
              "      <td>0.90563</td>\n",
              "      <td>0.63297</td>\n",
              "      <td>0.32957</td>\n",
              "      <td>0.45811</td>\n",
              "      <td>2.45176</td>\n",
              "    </tr>\n",
              "  </tbody>\n",
              "</table>\n",
              "</div>"
            ],
            "text/plain": [
              "       Country          Region  ...  Generosity  Dystopia Residual\n",
              "0  Switzerland  Western Europe  ...     0.29678            2.51738\n",
              "1      Iceland  Western Europe  ...     0.43630            2.70201\n",
              "2      Denmark  Western Europe  ...     0.34139            2.49204\n",
              "3       Norway  Western Europe  ...     0.34699            2.46531\n",
              "4       Canada   North America  ...     0.45811            2.45176\n",
              "\n",
              "[5 rows x 12 columns]"
            ]
          },
          "metadata": {
            "tags": []
          },
          "execution_count": 4
        }
      ]
    },
    {
      "cell_type": "code",
      "metadata": {
        "colab": {
          "base_uri": "https://localhost:8080/",
          "height": 323
        },
        "id": "q5zmMiiz6njW",
        "outputId": "d9de7123-6c3e-466c-8785-5ab2c9070aee"
      },
      "source": [
        "dataset2016.head(5)"
      ],
      "execution_count": null,
      "outputs": [
        {
          "output_type": "execute_result",
          "data": {
            "text/html": [
              "<div>\n",
              "<style scoped>\n",
              "    .dataframe tbody tr th:only-of-type {\n",
              "        vertical-align: middle;\n",
              "    }\n",
              "\n",
              "    .dataframe tbody tr th {\n",
              "        vertical-align: top;\n",
              "    }\n",
              "\n",
              "    .dataframe thead th {\n",
              "        text-align: right;\n",
              "    }\n",
              "</style>\n",
              "<table border=\"1\" class=\"dataframe\">\n",
              "  <thead>\n",
              "    <tr style=\"text-align: right;\">\n",
              "      <th></th>\n",
              "      <th>Country</th>\n",
              "      <th>Region</th>\n",
              "      <th>Happiness Rank</th>\n",
              "      <th>Happiness Score</th>\n",
              "      <th>Lower Confidence Interval</th>\n",
              "      <th>Upper Confidence Interval</th>\n",
              "      <th>Economy (GDP per Capita)</th>\n",
              "      <th>Family</th>\n",
              "      <th>Health (Life Expectancy)</th>\n",
              "      <th>Freedom</th>\n",
              "      <th>Trust (Government Corruption)</th>\n",
              "      <th>Generosity</th>\n",
              "      <th>Dystopia Residual</th>\n",
              "    </tr>\n",
              "  </thead>\n",
              "  <tbody>\n",
              "    <tr>\n",
              "      <th>0</th>\n",
              "      <td>Denmark</td>\n",
              "      <td>Western Europe</td>\n",
              "      <td>1</td>\n",
              "      <td>7.526</td>\n",
              "      <td>7.460</td>\n",
              "      <td>7.592</td>\n",
              "      <td>1.44178</td>\n",
              "      <td>1.16374</td>\n",
              "      <td>0.79504</td>\n",
              "      <td>0.57941</td>\n",
              "      <td>0.44453</td>\n",
              "      <td>0.36171</td>\n",
              "      <td>2.73939</td>\n",
              "    </tr>\n",
              "    <tr>\n",
              "      <th>1</th>\n",
              "      <td>Switzerland</td>\n",
              "      <td>Western Europe</td>\n",
              "      <td>2</td>\n",
              "      <td>7.509</td>\n",
              "      <td>7.428</td>\n",
              "      <td>7.590</td>\n",
              "      <td>1.52733</td>\n",
              "      <td>1.14524</td>\n",
              "      <td>0.86303</td>\n",
              "      <td>0.58557</td>\n",
              "      <td>0.41203</td>\n",
              "      <td>0.28083</td>\n",
              "      <td>2.69463</td>\n",
              "    </tr>\n",
              "    <tr>\n",
              "      <th>2</th>\n",
              "      <td>Iceland</td>\n",
              "      <td>Western Europe</td>\n",
              "      <td>3</td>\n",
              "      <td>7.501</td>\n",
              "      <td>7.333</td>\n",
              "      <td>7.669</td>\n",
              "      <td>1.42666</td>\n",
              "      <td>1.18326</td>\n",
              "      <td>0.86733</td>\n",
              "      <td>0.56624</td>\n",
              "      <td>0.14975</td>\n",
              "      <td>0.47678</td>\n",
              "      <td>2.83137</td>\n",
              "    </tr>\n",
              "    <tr>\n",
              "      <th>3</th>\n",
              "      <td>Norway</td>\n",
              "      <td>Western Europe</td>\n",
              "      <td>4</td>\n",
              "      <td>7.498</td>\n",
              "      <td>7.421</td>\n",
              "      <td>7.575</td>\n",
              "      <td>1.57744</td>\n",
              "      <td>1.12690</td>\n",
              "      <td>0.79579</td>\n",
              "      <td>0.59609</td>\n",
              "      <td>0.35776</td>\n",
              "      <td>0.37895</td>\n",
              "      <td>2.66465</td>\n",
              "    </tr>\n",
              "    <tr>\n",
              "      <th>4</th>\n",
              "      <td>Finland</td>\n",
              "      <td>Western Europe</td>\n",
              "      <td>5</td>\n",
              "      <td>7.413</td>\n",
              "      <td>7.351</td>\n",
              "      <td>7.475</td>\n",
              "      <td>1.40598</td>\n",
              "      <td>1.13464</td>\n",
              "      <td>0.81091</td>\n",
              "      <td>0.57104</td>\n",
              "      <td>0.41004</td>\n",
              "      <td>0.25492</td>\n",
              "      <td>2.82596</td>\n",
              "    </tr>\n",
              "  </tbody>\n",
              "</table>\n",
              "</div>"
            ],
            "text/plain": [
              "       Country          Region  ...  Generosity  Dystopia Residual\n",
              "0      Denmark  Western Europe  ...     0.36171            2.73939\n",
              "1  Switzerland  Western Europe  ...     0.28083            2.69463\n",
              "2      Iceland  Western Europe  ...     0.47678            2.83137\n",
              "3       Norway  Western Europe  ...     0.37895            2.66465\n",
              "4      Finland  Western Europe  ...     0.25492            2.82596\n",
              "\n",
              "[5 rows x 13 columns]"
            ]
          },
          "metadata": {
            "tags": []
          },
          "execution_count": 5
        }
      ]
    },
    {
      "cell_type": "code",
      "metadata": {
        "colab": {
          "base_uri": "https://localhost:8080/",
          "height": 224
        },
        "id": "orZqOJPi6kbZ",
        "outputId": "eb08483d-2d7f-4c0e-92db-fdb5bb5997a8"
      },
      "source": [
        "dataset2017.head(5)"
      ],
      "execution_count": null,
      "outputs": [
        {
          "output_type": "execute_result",
          "data": {
            "text/html": [
              "<div>\n",
              "<style scoped>\n",
              "    .dataframe tbody tr th:only-of-type {\n",
              "        vertical-align: middle;\n",
              "    }\n",
              "\n",
              "    .dataframe tbody tr th {\n",
              "        vertical-align: top;\n",
              "    }\n",
              "\n",
              "    .dataframe thead th {\n",
              "        text-align: right;\n",
              "    }\n",
              "</style>\n",
              "<table border=\"1\" class=\"dataframe\">\n",
              "  <thead>\n",
              "    <tr style=\"text-align: right;\">\n",
              "      <th></th>\n",
              "      <th>Country</th>\n",
              "      <th>Happiness.Rank</th>\n",
              "      <th>Happiness.Score</th>\n",
              "      <th>Whisker.high</th>\n",
              "      <th>Whisker.low</th>\n",
              "      <th>Economy..GDP.per.Capita.</th>\n",
              "      <th>Family</th>\n",
              "      <th>Health..Life.Expectancy.</th>\n",
              "      <th>Freedom</th>\n",
              "      <th>Generosity</th>\n",
              "      <th>Trust..Government.Corruption.</th>\n",
              "      <th>Dystopia.Residual</th>\n",
              "    </tr>\n",
              "  </thead>\n",
              "  <tbody>\n",
              "    <tr>\n",
              "      <th>0</th>\n",
              "      <td>Norway</td>\n",
              "      <td>1</td>\n",
              "      <td>7.537</td>\n",
              "      <td>7.594445</td>\n",
              "      <td>7.479556</td>\n",
              "      <td>1.616463</td>\n",
              "      <td>1.533524</td>\n",
              "      <td>0.796667</td>\n",
              "      <td>0.635423</td>\n",
              "      <td>0.362012</td>\n",
              "      <td>0.315964</td>\n",
              "      <td>2.277027</td>\n",
              "    </tr>\n",
              "    <tr>\n",
              "      <th>1</th>\n",
              "      <td>Denmark</td>\n",
              "      <td>2</td>\n",
              "      <td>7.522</td>\n",
              "      <td>7.581728</td>\n",
              "      <td>7.462272</td>\n",
              "      <td>1.482383</td>\n",
              "      <td>1.551122</td>\n",
              "      <td>0.792566</td>\n",
              "      <td>0.626007</td>\n",
              "      <td>0.355280</td>\n",
              "      <td>0.400770</td>\n",
              "      <td>2.313707</td>\n",
              "    </tr>\n",
              "    <tr>\n",
              "      <th>2</th>\n",
              "      <td>Iceland</td>\n",
              "      <td>3</td>\n",
              "      <td>7.504</td>\n",
              "      <td>7.622030</td>\n",
              "      <td>7.385970</td>\n",
              "      <td>1.480633</td>\n",
              "      <td>1.610574</td>\n",
              "      <td>0.833552</td>\n",
              "      <td>0.627163</td>\n",
              "      <td>0.475540</td>\n",
              "      <td>0.153527</td>\n",
              "      <td>2.322715</td>\n",
              "    </tr>\n",
              "    <tr>\n",
              "      <th>3</th>\n",
              "      <td>Switzerland</td>\n",
              "      <td>4</td>\n",
              "      <td>7.494</td>\n",
              "      <td>7.561772</td>\n",
              "      <td>7.426227</td>\n",
              "      <td>1.564980</td>\n",
              "      <td>1.516912</td>\n",
              "      <td>0.858131</td>\n",
              "      <td>0.620071</td>\n",
              "      <td>0.290549</td>\n",
              "      <td>0.367007</td>\n",
              "      <td>2.276716</td>\n",
              "    </tr>\n",
              "    <tr>\n",
              "      <th>4</th>\n",
              "      <td>Finland</td>\n",
              "      <td>5</td>\n",
              "      <td>7.469</td>\n",
              "      <td>7.527542</td>\n",
              "      <td>7.410458</td>\n",
              "      <td>1.443572</td>\n",
              "      <td>1.540247</td>\n",
              "      <td>0.809158</td>\n",
              "      <td>0.617951</td>\n",
              "      <td>0.245483</td>\n",
              "      <td>0.382612</td>\n",
              "      <td>2.430182</td>\n",
              "    </tr>\n",
              "  </tbody>\n",
              "</table>\n",
              "</div>"
            ],
            "text/plain": [
              "       Country  ...  Dystopia.Residual\n",
              "0       Norway  ...           2.277027\n",
              "1      Denmark  ...           2.313707\n",
              "2      Iceland  ...           2.322715\n",
              "3  Switzerland  ...           2.276716\n",
              "4      Finland  ...           2.430182\n",
              "\n",
              "[5 rows x 12 columns]"
            ]
          },
          "metadata": {
            "tags": []
          },
          "execution_count": 6
        }
      ]
    },
    {
      "cell_type": "code",
      "metadata": {
        "colab": {
          "base_uri": "https://localhost:8080/",
          "height": 221
        },
        "id": "Ayo4NqK8ya0T",
        "outputId": "f6c46b63-61cb-4351-f55b-3a545944eb9c"
      },
      "source": [
        "dataset2018.head(5)"
      ],
      "execution_count": null,
      "outputs": [
        {
          "output_type": "execute_result",
          "data": {
            "text/html": [
              "<div>\n",
              "<style scoped>\n",
              "    .dataframe tbody tr th:only-of-type {\n",
              "        vertical-align: middle;\n",
              "    }\n",
              "\n",
              "    .dataframe tbody tr th {\n",
              "        vertical-align: top;\n",
              "    }\n",
              "\n",
              "    .dataframe thead th {\n",
              "        text-align: right;\n",
              "    }\n",
              "</style>\n",
              "<table border=\"1\" class=\"dataframe\">\n",
              "  <thead>\n",
              "    <tr style=\"text-align: right;\">\n",
              "      <th></th>\n",
              "      <th>Overall rank</th>\n",
              "      <th>Country or region</th>\n",
              "      <th>Score</th>\n",
              "      <th>GDP per capita</th>\n",
              "      <th>Social support</th>\n",
              "      <th>Healthy life expectancy</th>\n",
              "      <th>Freedom to make life choices</th>\n",
              "      <th>Generosity</th>\n",
              "      <th>Perceptions of corruption</th>\n",
              "    </tr>\n",
              "  </thead>\n",
              "  <tbody>\n",
              "    <tr>\n",
              "      <th>0</th>\n",
              "      <td>1</td>\n",
              "      <td>Finland</td>\n",
              "      <td>7.632</td>\n",
              "      <td>1.305</td>\n",
              "      <td>1.592</td>\n",
              "      <td>0.874</td>\n",
              "      <td>0.681</td>\n",
              "      <td>0.202</td>\n",
              "      <td>0.393</td>\n",
              "    </tr>\n",
              "    <tr>\n",
              "      <th>1</th>\n",
              "      <td>2</td>\n",
              "      <td>Norway</td>\n",
              "      <td>7.594</td>\n",
              "      <td>1.456</td>\n",
              "      <td>1.582</td>\n",
              "      <td>0.861</td>\n",
              "      <td>0.686</td>\n",
              "      <td>0.286</td>\n",
              "      <td>0.340</td>\n",
              "    </tr>\n",
              "    <tr>\n",
              "      <th>2</th>\n",
              "      <td>3</td>\n",
              "      <td>Denmark</td>\n",
              "      <td>7.555</td>\n",
              "      <td>1.351</td>\n",
              "      <td>1.590</td>\n",
              "      <td>0.868</td>\n",
              "      <td>0.683</td>\n",
              "      <td>0.284</td>\n",
              "      <td>0.408</td>\n",
              "    </tr>\n",
              "    <tr>\n",
              "      <th>3</th>\n",
              "      <td>4</td>\n",
              "      <td>Iceland</td>\n",
              "      <td>7.495</td>\n",
              "      <td>1.343</td>\n",
              "      <td>1.644</td>\n",
              "      <td>0.914</td>\n",
              "      <td>0.677</td>\n",
              "      <td>0.353</td>\n",
              "      <td>0.138</td>\n",
              "    </tr>\n",
              "    <tr>\n",
              "      <th>4</th>\n",
              "      <td>5</td>\n",
              "      <td>Switzerland</td>\n",
              "      <td>7.487</td>\n",
              "      <td>1.420</td>\n",
              "      <td>1.549</td>\n",
              "      <td>0.927</td>\n",
              "      <td>0.660</td>\n",
              "      <td>0.256</td>\n",
              "      <td>0.357</td>\n",
              "    </tr>\n",
              "  </tbody>\n",
              "</table>\n",
              "</div>"
            ],
            "text/plain": [
              "   Overall rank Country or region  ...  Generosity  Perceptions of corruption\n",
              "0             1           Finland  ...       0.202                      0.393\n",
              "1             2            Norway  ...       0.286                      0.340\n",
              "2             3           Denmark  ...       0.284                      0.408\n",
              "3             4           Iceland  ...       0.353                      0.138\n",
              "4             5       Switzerland  ...       0.256                      0.357\n",
              "\n",
              "[5 rows x 9 columns]"
            ]
          },
          "metadata": {
            "tags": []
          },
          "execution_count": 7
        }
      ]
    },
    {
      "cell_type": "code",
      "metadata": {
        "colab": {
          "base_uri": "https://localhost:8080/",
          "height": 221
        },
        "id": "kZ8X_x8x6iaY",
        "outputId": "12949a0a-bcfa-4977-91bc-8c4b35a05073"
      },
      "source": [
        "dataset2019.head(5)"
      ],
      "execution_count": null,
      "outputs": [
        {
          "output_type": "execute_result",
          "data": {
            "text/html": [
              "<div>\n",
              "<style scoped>\n",
              "    .dataframe tbody tr th:only-of-type {\n",
              "        vertical-align: middle;\n",
              "    }\n",
              "\n",
              "    .dataframe tbody tr th {\n",
              "        vertical-align: top;\n",
              "    }\n",
              "\n",
              "    .dataframe thead th {\n",
              "        text-align: right;\n",
              "    }\n",
              "</style>\n",
              "<table border=\"1\" class=\"dataframe\">\n",
              "  <thead>\n",
              "    <tr style=\"text-align: right;\">\n",
              "      <th></th>\n",
              "      <th>Overall rank</th>\n",
              "      <th>Country or region</th>\n",
              "      <th>Score</th>\n",
              "      <th>GDP per capita</th>\n",
              "      <th>Social support</th>\n",
              "      <th>Healthy life expectancy</th>\n",
              "      <th>Freedom to make life choices</th>\n",
              "      <th>Generosity</th>\n",
              "      <th>Perceptions of corruption</th>\n",
              "    </tr>\n",
              "  </thead>\n",
              "  <tbody>\n",
              "    <tr>\n",
              "      <th>0</th>\n",
              "      <td>1</td>\n",
              "      <td>Finland</td>\n",
              "      <td>7.769</td>\n",
              "      <td>1.340</td>\n",
              "      <td>1.587</td>\n",
              "      <td>0.986</td>\n",
              "      <td>0.596</td>\n",
              "      <td>0.153</td>\n",
              "      <td>0.393</td>\n",
              "    </tr>\n",
              "    <tr>\n",
              "      <th>1</th>\n",
              "      <td>2</td>\n",
              "      <td>Denmark</td>\n",
              "      <td>7.600</td>\n",
              "      <td>1.383</td>\n",
              "      <td>1.573</td>\n",
              "      <td>0.996</td>\n",
              "      <td>0.592</td>\n",
              "      <td>0.252</td>\n",
              "      <td>0.410</td>\n",
              "    </tr>\n",
              "    <tr>\n",
              "      <th>2</th>\n",
              "      <td>3</td>\n",
              "      <td>Norway</td>\n",
              "      <td>7.554</td>\n",
              "      <td>1.488</td>\n",
              "      <td>1.582</td>\n",
              "      <td>1.028</td>\n",
              "      <td>0.603</td>\n",
              "      <td>0.271</td>\n",
              "      <td>0.341</td>\n",
              "    </tr>\n",
              "    <tr>\n",
              "      <th>3</th>\n",
              "      <td>4</td>\n",
              "      <td>Iceland</td>\n",
              "      <td>7.494</td>\n",
              "      <td>1.380</td>\n",
              "      <td>1.624</td>\n",
              "      <td>1.026</td>\n",
              "      <td>0.591</td>\n",
              "      <td>0.354</td>\n",
              "      <td>0.118</td>\n",
              "    </tr>\n",
              "    <tr>\n",
              "      <th>4</th>\n",
              "      <td>5</td>\n",
              "      <td>Netherlands</td>\n",
              "      <td>7.488</td>\n",
              "      <td>1.396</td>\n",
              "      <td>1.522</td>\n",
              "      <td>0.999</td>\n",
              "      <td>0.557</td>\n",
              "      <td>0.322</td>\n",
              "      <td>0.298</td>\n",
              "    </tr>\n",
              "  </tbody>\n",
              "</table>\n",
              "</div>"
            ],
            "text/plain": [
              "   Overall rank Country or region  ...  Generosity  Perceptions of corruption\n",
              "0             1           Finland  ...       0.153                      0.393\n",
              "1             2           Denmark  ...       0.252                      0.410\n",
              "2             3            Norway  ...       0.271                      0.341\n",
              "3             4           Iceland  ...       0.354                      0.118\n",
              "4             5       Netherlands  ...       0.322                      0.298\n",
              "\n",
              "[5 rows x 9 columns]"
            ]
          },
          "metadata": {
            "tags": []
          },
          "execution_count": 8
        }
      ]
    },
    {
      "cell_type": "code",
      "metadata": {
        "colab": {
          "base_uri": "https://localhost:8080/"
        },
        "id": "BuFGldk62an0",
        "outputId": "07d282ad-390e-4f8b-b0e3-573b1c2a6e1a"
      },
      "source": [
        "dataset2015.shape"
      ],
      "execution_count": null,
      "outputs": [
        {
          "output_type": "execute_result",
          "data": {
            "text/plain": [
              "(158, 12)"
            ]
          },
          "metadata": {
            "tags": []
          },
          "execution_count": 9
        }
      ]
    },
    {
      "cell_type": "code",
      "metadata": {
        "id": "U2I8aWxr0AkI",
        "colab": {
          "base_uri": "https://localhost:8080/",
          "height": 642
        },
        "outputId": "5de107f1-60cd-45c1-b46e-13742e11bc23"
      },
      "source": [
        "plt.figure(figsize=(10,8))\n",
        "corr = dataset2015.drop(['Country','Region','Happiness Rank'],axis = 1).corr()\n",
        "sns.heatmap(corr, cbar = True, square = True, annot=True, linewidths = .5, fmt='.2f',annot_kws={'size': 15}) \n",
        "plt.title('Heatmap of Correlation Matrix, 2015')\n",
        "plt.show()"
      ],
      "execution_count": 3,
      "outputs": [
        {
          "output_type": "display_data",
          "data": {
            "image/png": "[encoded data removed]",
            "text/plain": [
              "<Figure size 720x576 with 2 Axes>"
            ]
          },
          "metadata": {
            "tags": [],
            "needs_background": "light"
          }
        }
      ]
    },
    {
      "cell_type": "markdown",
      "metadata": {
        "id": "ZPJnVKJffan1"
      },
      "source": [
        "**Happiness score across different regions**"
      ]
    },
    {
      "cell_type": "code",
      "metadata": {
        "colab": {
          "base_uri": "https://localhost:8080/",
          "height": 296
        },
        "id": "wOK1NRjZfZcb",
        "outputId": "75f90fcc-68d9-4487-f27c-ae0a0e4693f0"
      },
      "source": [
        "sns.barplot(y= dataset2015['Region'][:20], x= dataset2015['Happiness Score'])"
      ],
      "execution_count": null,
      "outputs": [
        {
          "output_type": "execute_result",
          "data": {
            "text/plain": [
              "<matplotlib.axes._subplots.AxesSubplot at 0x7fedd7477fd0>"
            ]
          },
          "metadata": {
            "tags": []
          },
          "execution_count": 11
        },
        {
          "output_type": "display_data",
          "data": {
            "image/png": "[encoded data removed]",
            "text/plain": [
              "<Figure size 432x288 with 1 Axes>"
            ]
          },
          "metadata": {
            "tags": [],
            "needs_background": "light"
          }
        }
      ]
    },
    {
      "cell_type": "markdown",
      "metadata": {
        "id": "rI_qs-eO_Q6h"
      },
      "source": [
        "**Correlations for a particular region**"
      ]
    },
    {
      "cell_type": "code",
      "metadata": {
        "id": "L-tXw_le_TQi",
        "colab": {
          "base_uri": "https://localhost:8080/",
          "height": 630
        },
        "outputId": "5ad6ba0c-13a6-413a-c58b-4eefbf3727fe"
      },
      "source": [
        "plt.rcParams['figure.figsize'] = (10,8)\n",
        "d = dataset2016.loc[lambda dataset2016: dataset2016['Region'] == 'Western Europe']\n",
        "sns.heatmap(d.corr(), cmap = 'Blues', annot = True)\n",
        "\n",
        "plt.show()"
      ],
      "execution_count": null,
      "outputs": [
        {
          "output_type": "display_data",
          "data": {
            "image/png": "[encoded data removed]",
            "text/plain": [
              "<Figure size 720x576 with 2 Axes>"
            ]
          },
          "metadata": {
            "tags": [],
            "needs_background": "light"
          }
        }
      ]
    },
    {
      "cell_type": "markdown",
      "metadata": {
        "id": "Fz6ceRIfBlg8"
      },
      "source": [
        "\n",
        "The Heat Map particularly for Europe has one more thing to add apart from Family Satisfaction, Freedom, Economy, Generosity, It is also highly correlated with Trust in Government.\n",
        "\n",
        "The European Region is the Happiest Region so far."
      ]
    },
    {
      "cell_type": "markdown",
      "metadata": {
        "id": "yU5-0RR4lbL-"
      },
      "source": [
        "# Formatting Datasets\n",
        "\n",
        "Rename variables in all datasets to common names in order to maintiain uniformity.\n",
        "\n",
        "Drop columns which are not important."
      ]
    },
    {
      "cell_type": "code",
      "metadata": {
        "id": "CzLG_qsDG7w0",
        "colab": {
          "base_uri": "https://localhost:8080/",
          "height": 204
        },
        "outputId": "86ba7922-5573-44a1-b240-1c2ba274fc64"
      },
      "source": [
        "#2015 Data\n",
        "\n",
        "dataset2015.rename(columns={\"Economy (GDP per Capita)\" : \"Economy\"}, inplace=True)\n",
        "dataset2015.rename(columns={\"Health (Life Expectancy)\" : \"Health\"}, inplace=True)\n",
        "dataset2015.rename(columns={\"Trust (Government Corruption)\" : \"Trust\"}, inplace=True)\n",
        "dataset2015.drop(['Region','Standard Error', 'Dystopia Residual'],axis=1,inplace=True)\n",
        "dataset2015['Year'] = 2015 #add year column\n",
        "\n",
        "dataset2015.head()"
      ],
      "execution_count": 4,
      "outputs": [
        {
          "output_type": "execute_result",
          "data": {
            "text/html": [
              "<div>\n",
              "<style scoped>\n",
              "    .dataframe tbody tr th:only-of-type {\n",
              "        vertical-align: middle;\n",
              "    }\n",
              "\n",
              "    .dataframe tbody tr th {\n",
              "        vertical-align: top;\n",
              "    }\n",
              "\n",
              "    .dataframe thead th {\n",
              "        text-align: right;\n",
              "    }\n",
              "</style>\n",
              "<table border=\"1\" class=\"dataframe\">\n",
              "  <thead>\n",
              "    <tr style=\"text-align: right;\">\n",
              "      <th></th>\n",
              "      <th>Country</th>\n",
              "      <th>Happiness Rank</th>\n",
              "      <th>Happiness Score</th>\n",
              "      <th>Economy</th>\n",
              "      <th>Family</th>\n",
              "      <th>Health</th>\n",
              "      <th>Freedom</th>\n",
              "      <th>Trust</th>\n",
              "      <th>Generosity</th>\n",
              "      <th>Year</th>\n",
              "    </tr>\n",
              "  </thead>\n",
              "  <tbody>\n",
              "    <tr>\n",
              "      <th>0</th>\n",
              "      <td>Switzerland</td>\n",
              "      <td>1</td>\n",
              "      <td>7.587</td>\n",
              "      <td>1.39651</td>\n",
              "      <td>1.34951</td>\n",
              "      <td>0.94143</td>\n",
              "      <td>0.66557</td>\n",
              "      <td>0.41978</td>\n",
              "      <td>0.29678</td>\n",
              "      <td>2015</td>\n",
              "    </tr>\n",
              "    <tr>\n",
              "      <th>1</th>\n",
              "      <td>Iceland</td>\n",
              "      <td>2</td>\n",
              "      <td>7.561</td>\n",
              "      <td>1.30232</td>\n",
              "      <td>1.40223</td>\n",
              "      <td>0.94784</td>\n",
              "      <td>0.62877</td>\n",
              "      <td>0.14145</td>\n",
              "      <td>0.43630</td>\n",
              "      <td>2015</td>\n",
              "    </tr>\n",
              "    <tr>\n",
              "      <th>2</th>\n",
              "      <td>Denmark</td>\n",
              "      <td>3</td>\n",
              "      <td>7.527</td>\n",
              "      <td>1.32548</td>\n",
              "      <td>1.36058</td>\n",
              "      <td>0.87464</td>\n",
              "      <td>0.64938</td>\n",
              "      <td>0.48357</td>\n",
              "      <td>0.34139</td>\n",
              "      <td>2015</td>\n",
              "    </tr>\n",
              "    <tr>\n",
              "      <th>3</th>\n",
              "      <td>Norway</td>\n",
              "      <td>4</td>\n",
              "      <td>7.522</td>\n",
              "      <td>1.45900</td>\n",
              "      <td>1.33095</td>\n",
              "      <td>0.88521</td>\n",
              "      <td>0.66973</td>\n",
              "      <td>0.36503</td>\n",
              "      <td>0.34699</td>\n",
              "      <td>2015</td>\n",
              "    </tr>\n",
              "    <tr>\n",
              "      <th>4</th>\n",
              "      <td>Canada</td>\n",
              "      <td>5</td>\n",
              "      <td>7.427</td>\n",
              "      <td>1.32629</td>\n",
              "      <td>1.32261</td>\n",
              "      <td>0.90563</td>\n",
              "      <td>0.63297</td>\n",
              "      <td>0.32957</td>\n",
              "      <td>0.45811</td>\n",
              "      <td>2015</td>\n",
              "    </tr>\n",
              "  </tbody>\n",
              "</table>\n",
              "</div>"
            ],
            "text/plain": [
              "       Country  Happiness Rank  Happiness Score  ...    Trust  Generosity  Year\n",
              "0  Switzerland               1            7.587  ...  0.41978     0.29678  2015\n",
              "1      Iceland               2            7.561  ...  0.14145     0.43630  2015\n",
              "2      Denmark               3            7.527  ...  0.48357     0.34139  2015\n",
              "3       Norway               4            7.522  ...  0.36503     0.34699  2015\n",
              "4       Canada               5            7.427  ...  0.32957     0.45811  2015\n",
              "\n",
              "[5 rows x 10 columns]"
            ]
          },
          "metadata": {
            "tags": []
          },
          "execution_count": 4
        }
      ]
    },
    {
      "cell_type": "code",
      "metadata": {
        "colab": {
          "base_uri": "https://localhost:8080/",
          "height": 204
        },
        "id": "ECyYbgRkMK6w",
        "outputId": "85eec92a-c907-4fff-e3f5-cacff388120e"
      },
      "source": [
        "#2016 Data\n",
        "dataset2016.rename(columns={\"Economy (GDP per Capita)\" : \"Economy\"}, inplace=True)\n",
        "dataset2016.rename(columns={\"Health (Life Expectancy)\" : \"Health\"}, inplace=True)\n",
        "dataset2016.rename(columns={\"Trust (Government Corruption)\" : \"Trust\"}, inplace=True)\n",
        "dataset2016.drop(['Region','Lower Confidence Interval','Upper Confidence Interval','Dystopia Residual'],axis=1,inplace=True)\n",
        "dataset2016['Year'] = 2016\n",
        "\n",
        "dataset2016.head()"
      ],
      "execution_count": 5,
      "outputs": [
        {
          "output_type": "execute_result",
          "data": {
            "text/html": [
              "<div>\n",
              "<style scoped>\n",
              "    .dataframe tbody tr th:only-of-type {\n",
              "        vertical-align: middle;\n",
              "    }\n",
              "\n",
              "    .dataframe tbody tr th {\n",
              "        vertical-align: top;\n",
              "    }\n",
              "\n",
              "    .dataframe thead th {\n",
              "        text-align: right;\n",
              "    }\n",
              "</style>\n",
              "<table border=\"1\" class=\"dataframe\">\n",
              "  <thead>\n",
              "    <tr style=\"text-align: right;\">\n",
              "      <th></th>\n",
              "      <th>Country</th>\n",
              "      <th>Happiness Rank</th>\n",
              "      <th>Happiness Score</th>\n",
              "      <th>Economy</th>\n",
              "      <th>Family</th>\n",
              "      <th>Health</th>\n",
              "      <th>Freedom</th>\n",
              "      <th>Trust</th>\n",
              "      <th>Generosity</th>\n",
              "      <th>Year</th>\n",
              "    </tr>\n",
              "  </thead>\n",
              "  <tbody>\n",
              "    <tr>\n",
              "      <th>0</th>\n",
              "      <td>Denmark</td>\n",
              "      <td>1</td>\n",
              "      <td>7.526</td>\n",
              "      <td>1.44178</td>\n",
              "      <td>1.16374</td>\n",
              "      <td>0.79504</td>\n",
              "      <td>0.57941</td>\n",
              "      <td>0.44453</td>\n",
              "      <td>0.36171</td>\n",
              "      <td>2016</td>\n",
              "    </tr>\n",
              "    <tr>\n",
              "      <th>1</th>\n",
              "      <td>Switzerland</td>\n",
              "      <td>2</td>\n",
              "      <td>7.509</td>\n",
              "      <td>1.52733</td>\n",
              "      <td>1.14524</td>\n",
              "      <td>0.86303</td>\n",
              "      <td>0.58557</td>\n",
              "      <td>0.41203</td>\n",
              "      <td>0.28083</td>\n",
              "      <td>2016</td>\n",
              "    </tr>\n",
              "    <tr>\n",
              "      <th>2</th>\n",
              "      <td>Iceland</td>\n",
              "      <td>3</td>\n",
              "      <td>7.501</td>\n",
              "      <td>1.42666</td>\n",
              "      <td>1.18326</td>\n",
              "      <td>0.86733</td>\n",
              "      <td>0.56624</td>\n",
              "      <td>0.14975</td>\n",
              "      <td>0.47678</td>\n",
              "      <td>2016</td>\n",
              "    </tr>\n",
              "    <tr>\n",
              "      <th>3</th>\n",
              "      <td>Norway</td>\n",
              "      <td>4</td>\n",
              "      <td>7.498</td>\n",
              "      <td>1.57744</td>\n",
              "      <td>1.12690</td>\n",
              "      <td>0.79579</td>\n",
              "      <td>0.59609</td>\n",
              "      <td>0.35776</td>\n",
              "      <td>0.37895</td>\n",
              "      <td>2016</td>\n",
              "    </tr>\n",
              "    <tr>\n",
              "      <th>4</th>\n",
              "      <td>Finland</td>\n",
              "      <td>5</td>\n",
              "      <td>7.413</td>\n",
              "      <td>1.40598</td>\n",
              "      <td>1.13464</td>\n",
              "      <td>0.81091</td>\n",
              "      <td>0.57104</td>\n",
              "      <td>0.41004</td>\n",
              "      <td>0.25492</td>\n",
              "      <td>2016</td>\n",
              "    </tr>\n",
              "  </tbody>\n",
              "</table>\n",
              "</div>"
            ],
            "text/plain": [
              "       Country  Happiness Rank  Happiness Score  ...    Trust  Generosity  Year\n",
              "0      Denmark               1            7.526  ...  0.44453     0.36171  2016\n",
              "1  Switzerland               2            7.509  ...  0.41203     0.28083  2016\n",
              "2      Iceland               3            7.501  ...  0.14975     0.47678  2016\n",
              "3       Norway               4            7.498  ...  0.35776     0.37895  2016\n",
              "4      Finland               5            7.413  ...  0.41004     0.25492  2016\n",
              "\n",
              "[5 rows x 10 columns]"
            ]
          },
          "metadata": {
            "tags": []
          },
          "execution_count": 5
        }
      ]
    },
    {
      "cell_type": "code",
      "metadata": {
        "colab": {
          "base_uri": "https://localhost:8080/",
          "height": 204
        },
        "id": "J5a_xRiSM0Tc",
        "outputId": "2ef82ce6-1aa4-43a4-f61b-03f84791286c"
      },
      "source": [
        "#2017 Data\n",
        "\n",
        "dataset2017.rename(columns={\"Happiness.Score\" : \"Happiness Score\"}, inplace=True)\n",
        "dataset2017.rename(columns={\"Economy..GDP.per.Capita.\" : \"Economy\"}, inplace=True)\n",
        "dataset2017.rename(columns={\"Happiness.Rank\" : \"Happiness Rank\"}, inplace=True)\n",
        "dataset2017.rename(columns={\"Health..Life.Expectancy.\" : \"Health\"}, inplace=True)\n",
        "dataset2017.rename(columns={\"Trust..Government.Corruption.\" : \"Trust\"}, inplace=True)\n",
        "dataset2017.drop(['Whisker.high','Whisker.low','Dystopia.Residual'],axis=1,inplace=True)\n",
        "dataset2017['Year'] = 2017\n",
        "\n",
        "dataset2017.head()"
      ],
      "execution_count": 6,
      "outputs": [
        {
          "output_type": "execute_result",
          "data": {
            "text/html": [
              "<div>\n",
              "<style scoped>\n",
              "    .dataframe tbody tr th:only-of-type {\n",
              "        vertical-align: middle;\n",
              "    }\n",
              "\n",
              "    .dataframe tbody tr th {\n",
              "        vertical-align: top;\n",
              "    }\n",
              "\n",
              "    .dataframe thead th {\n",
              "        text-align: right;\n",
              "    }\n",
              "</style>\n",
              "<table border=\"1\" class=\"dataframe\">\n",
              "  <thead>\n",
              "    <tr style=\"text-align: right;\">\n",
              "      <th></th>\n",
              "      <th>Country</th>\n",
              "      <th>Happiness Rank</th>\n",
              "      <th>Happiness Score</th>\n",
              "      <th>Economy</th>\n",
              "      <th>Family</th>\n",
              "      <th>Health</th>\n",
              "      <th>Freedom</th>\n",
              "      <th>Generosity</th>\n",
              "      <th>Trust</th>\n",
              "      <th>Year</th>\n",
              "    </tr>\n",
              "  </thead>\n",
              "  <tbody>\n",
              "    <tr>\n",
              "      <th>0</th>\n",
              "      <td>Norway</td>\n",
              "      <td>1</td>\n",
              "      <td>7.537</td>\n",
              "      <td>1.616463</td>\n",
              "      <td>1.533524</td>\n",
              "      <td>0.796667</td>\n",
              "      <td>0.635423</td>\n",
              "      <td>0.362012</td>\n",
              "      <td>0.315964</td>\n",
              "      <td>2017</td>\n",
              "    </tr>\n",
              "    <tr>\n",
              "      <th>1</th>\n",
              "      <td>Denmark</td>\n",
              "      <td>2</td>\n",
              "      <td>7.522</td>\n",
              "      <td>1.482383</td>\n",
              "      <td>1.551122</td>\n",
              "      <td>0.792566</td>\n",
              "      <td>0.626007</td>\n",
              "      <td>0.355280</td>\n",
              "      <td>0.400770</td>\n",
              "      <td>2017</td>\n",
              "    </tr>\n",
              "    <tr>\n",
              "      <th>2</th>\n",
              "      <td>Iceland</td>\n",
              "      <td>3</td>\n",
              "      <td>7.504</td>\n",
              "      <td>1.480633</td>\n",
              "      <td>1.610574</td>\n",
              "      <td>0.833552</td>\n",
              "      <td>0.627163</td>\n",
              "      <td>0.475540</td>\n",
              "      <td>0.153527</td>\n",
              "      <td>2017</td>\n",
              "    </tr>\n",
              "    <tr>\n",
              "      <th>3</th>\n",
              "      <td>Switzerland</td>\n",
              "      <td>4</td>\n",
              "      <td>7.494</td>\n",
              "      <td>1.564980</td>\n",
              "      <td>1.516912</td>\n",
              "      <td>0.858131</td>\n",
              "      <td>0.620071</td>\n",
              "      <td>0.290549</td>\n",
              "      <td>0.367007</td>\n",
              "      <td>2017</td>\n",
              "    </tr>\n",
              "    <tr>\n",
              "      <th>4</th>\n",
              "      <td>Finland</td>\n",
              "      <td>5</td>\n",
              "      <td>7.469</td>\n",
              "      <td>1.443572</td>\n",
              "      <td>1.540247</td>\n",
              "      <td>0.809158</td>\n",
              "      <td>0.617951</td>\n",
              "      <td>0.245483</td>\n",
              "      <td>0.382612</td>\n",
              "      <td>2017</td>\n",
              "    </tr>\n",
              "  </tbody>\n",
              "</table>\n",
              "</div>"
            ],
            "text/plain": [
              "       Country  Happiness Rank  Happiness Score  ...  Generosity     Trust  Year\n",
              "0       Norway               1            7.537  ...    0.362012  0.315964  2017\n",
              "1      Denmark               2            7.522  ...    0.355280  0.400770  2017\n",
              "2      Iceland               3            7.504  ...    0.475540  0.153527  2017\n",
              "3  Switzerland               4            7.494  ...    0.290549  0.367007  2017\n",
              "4      Finland               5            7.469  ...    0.245483  0.382612  2017\n",
              "\n",
              "[5 rows x 10 columns]"
            ]
          },
          "metadata": {
            "tags": []
          },
          "execution_count": 6
        }
      ]
    },
    {
      "cell_type": "code",
      "metadata": {
        "colab": {
          "base_uri": "https://localhost:8080/",
          "height": 204
        },
        "id": "9q1cgCBmNY2g",
        "outputId": "89331c43-a680-4c45-ce65-0adf9774dd93"
      },
      "source": [
        "#2018 Data\n",
        "\n",
        "dataset2018.rename(columns={\"Score\" : \"Happiness Score\"}, inplace=True)\n",
        "dataset2018.rename(columns={\"GDP per capita\" : \"Economy\"}, inplace=True)\n",
        "dataset2018.rename(columns={\"Overall rank\" : \"Happiness Rank\"}, inplace=True)\n",
        "dataset2018.rename(columns={\"Country or region\" : \"Country\"}, inplace=True)\n",
        "dataset2018.rename(columns={\"Healthy life expectancy\" : \"Health\"}, inplace=True)\n",
        "dataset2018.rename(columns={\"Freedom to make life choices\" : \"Freedom\"}, inplace=True)\n",
        "dataset2018.rename(columns={\"Social support\" : \"Family\"}, inplace=True)\n",
        "dataset2018.rename(columns={\"Perceptions of corruption\" : \"Trust\"}, inplace=True)\n",
        "dataset2018['Year'] = 2018\n",
        "\n",
        "dataset2018.head()\n"
      ],
      "execution_count": 7,
      "outputs": [
        {
          "output_type": "execute_result",
          "data": {
            "text/html": [
              "<div>\n",
              "<style scoped>\n",
              "    .dataframe tbody tr th:only-of-type {\n",
              "        vertical-align: middle;\n",
              "    }\n",
              "\n",
              "    .dataframe tbody tr th {\n",
              "        vertical-align: top;\n",
              "    }\n",
              "\n",
              "    .dataframe thead th {\n",
              "        text-align: right;\n",
              "    }\n",
              "</style>\n",
              "<table border=\"1\" class=\"dataframe\">\n",
              "  <thead>\n",
              "    <tr style=\"text-align: right;\">\n",
              "      <th></th>\n",
              "      <th>Happiness Rank</th>\n",
              "      <th>Country</th>\n",
              "      <th>Happiness Score</th>\n",
              "      <th>Economy</th>\n",
              "      <th>Family</th>\n",
              "      <th>Health</th>\n",
              "      <th>Freedom</th>\n",
              "      <th>Generosity</th>\n",
              "      <th>Trust</th>\n",
              "      <th>Year</th>\n",
              "    </tr>\n",
              "  </thead>\n",
              "  <tbody>\n",
              "    <tr>\n",
              "      <th>0</th>\n",
              "      <td>1</td>\n",
              "      <td>Finland</td>\n",
              "      <td>7.632</td>\n",
              "      <td>1.305</td>\n",
              "      <td>1.592</td>\n",
              "      <td>0.874</td>\n",
              "      <td>0.681</td>\n",
              "      <td>0.202</td>\n",
              "      <td>0.393</td>\n",
              "      <td>2018</td>\n",
              "    </tr>\n",
              "    <tr>\n",
              "      <th>1</th>\n",
              "      <td>2</td>\n",
              "      <td>Norway</td>\n",
              "      <td>7.594</td>\n",
              "      <td>1.456</td>\n",
              "      <td>1.582</td>\n",
              "      <td>0.861</td>\n",
              "      <td>0.686</td>\n",
              "      <td>0.286</td>\n",
              "      <td>0.340</td>\n",
              "      <td>2018</td>\n",
              "    </tr>\n",
              "    <tr>\n",
              "      <th>2</th>\n",
              "      <td>3</td>\n",
              "      <td>Denmark</td>\n",
              "      <td>7.555</td>\n",
              "      <td>1.351</td>\n",
              "      <td>1.590</td>\n",
              "      <td>0.868</td>\n",
              "      <td>0.683</td>\n",
              "      <td>0.284</td>\n",
              "      <td>0.408</td>\n",
              "      <td>2018</td>\n",
              "    </tr>\n",
              "    <tr>\n",
              "      <th>3</th>\n",
              "      <td>4</td>\n",
              "      <td>Iceland</td>\n",
              "      <td>7.495</td>\n",
              "      <td>1.343</td>\n",
              "      <td>1.644</td>\n",
              "      <td>0.914</td>\n",
              "      <td>0.677</td>\n",
              "      <td>0.353</td>\n",
              "      <td>0.138</td>\n",
              "      <td>2018</td>\n",
              "    </tr>\n",
              "    <tr>\n",
              "      <th>4</th>\n",
              "      <td>5</td>\n",
              "      <td>Switzerland</td>\n",
              "      <td>7.487</td>\n",
              "      <td>1.420</td>\n",
              "      <td>1.549</td>\n",
              "      <td>0.927</td>\n",
              "      <td>0.660</td>\n",
              "      <td>0.256</td>\n",
              "      <td>0.357</td>\n",
              "      <td>2018</td>\n",
              "    </tr>\n",
              "  </tbody>\n",
              "</table>\n",
              "</div>"
            ],
            "text/plain": [
              "   Happiness Rank      Country  Happiness Score  ...  Generosity  Trust  Year\n",
              "0               1      Finland            7.632  ...       0.202  0.393  2018\n",
              "1               2       Norway            7.594  ...       0.286  0.340  2018\n",
              "2               3      Denmark            7.555  ...       0.284  0.408  2018\n",
              "3               4      Iceland            7.495  ...       0.353  0.138  2018\n",
              "4               5  Switzerland            7.487  ...       0.256  0.357  2018\n",
              "\n",
              "[5 rows x 10 columns]"
            ]
          },
          "metadata": {
            "tags": []
          },
          "execution_count": 7
        }
      ]
    },
    {
      "cell_type": "code",
      "metadata": {
        "id": "gAMqr21ilaa3",
        "colab": {
          "base_uri": "https://localhost:8080/",
          "height": 204
        },
        "outputId": "81f96019-cc40-4cc9-9a47-b7734c6c2ce6"
      },
      "source": [
        "#2019 Data\n",
        "\n",
        "dataset2019.rename(columns={\"Score\" : \"Happiness Score\"}, inplace=True)\n",
        "dataset2019.rename(columns={\"GDP per capita\" : \"Economy\"}, inplace=True)\n",
        "dataset2019.rename(columns={\"Overall rank\" : \"Happiness Rank\"}, inplace=True)\n",
        "dataset2019.rename(columns={\"Country or region\" : \"Country\"}, inplace=True)\n",
        "dataset2019.rename(columns={\"Healthy life expectancy\" : \"Health\"}, inplace=True)\n",
        "dataset2019.rename(columns={\"Freedom to make life choices\" : \"Freedom\"}, inplace=True)\n",
        "dataset2019.rename(columns={\"Social support\" : \"Family\"}, inplace=True)\n",
        "dataset2019.rename(columns={\"Perceptions of corruption\" : \"Trust\"}, inplace=True)\n",
        "dataset2019['Year'] = 2019\n",
        "\n",
        "dataset2019.head()"
      ],
      "execution_count": 8,
      "outputs": [
        {
          "output_type": "execute_result",
          "data": {
            "text/html": [
              "<div>\n",
              "<style scoped>\n",
              "    .dataframe tbody tr th:only-of-type {\n",
              "        vertical-align: middle;\n",
              "    }\n",
              "\n",
              "    .dataframe tbody tr th {\n",
              "        vertical-align: top;\n",
              "    }\n",
              "\n",
              "    .dataframe thead th {\n",
              "        text-align: right;\n",
              "    }\n",
              "</style>\n",
              "<table border=\"1\" class=\"dataframe\">\n",
              "  <thead>\n",
              "    <tr style=\"text-align: right;\">\n",
              "      <th></th>\n",
              "      <th>Happiness Rank</th>\n",
              "      <th>Country</th>\n",
              "      <th>Happiness Score</th>\n",
              "      <th>Economy</th>\n",
              "      <th>Family</th>\n",
              "      <th>Health</th>\n",
              "      <th>Freedom</th>\n",
              "      <th>Generosity</th>\n",
              "      <th>Trust</th>\n",
              "      <th>Year</th>\n",
              "    </tr>\n",
              "  </thead>\n",
              "  <tbody>\n",
              "    <tr>\n",
              "      <th>0</th>\n",
              "      <td>1</td>\n",
              "      <td>Finland</td>\n",
              "      <td>7.769</td>\n",
              "      <td>1.340</td>\n",
              "      <td>1.587</td>\n",
              "      <td>0.986</td>\n",
              "      <td>0.596</td>\n",
              "      <td>0.153</td>\n",
              "      <td>0.393</td>\n",
              "      <td>2019</td>\n",
              "    </tr>\n",
              "    <tr>\n",
              "      <th>1</th>\n",
              "      <td>2</td>\n",
              "      <td>Denmark</td>\n",
              "      <td>7.600</td>\n",
              "      <td>1.383</td>\n",
              "      <td>1.573</td>\n",
              "      <td>0.996</td>\n",
              "      <td>0.592</td>\n",
              "      <td>0.252</td>\n",
              "      <td>0.410</td>\n",
              "      <td>2019</td>\n",
              "    </tr>\n",
              "    <tr>\n",
              "      <th>2</th>\n",
              "      <td>3</td>\n",
              "      <td>Norway</td>\n",
              "      <td>7.554</td>\n",
              "      <td>1.488</td>\n",
              "      <td>1.582</td>\n",
              "      <td>1.028</td>\n",
              "      <td>0.603</td>\n",
              "      <td>0.271</td>\n",
              "      <td>0.341</td>\n",
              "      <td>2019</td>\n",
              "    </tr>\n",
              "    <tr>\n",
              "      <th>3</th>\n",
              "      <td>4</td>\n",
              "      <td>Iceland</td>\n",
              "      <td>7.494</td>\n",
              "      <td>1.380</td>\n",
              "      <td>1.624</td>\n",
              "      <td>1.026</td>\n",
              "      <td>0.591</td>\n",
              "      <td>0.354</td>\n",
              "      <td>0.118</td>\n",
              "      <td>2019</td>\n",
              "    </tr>\n",
              "    <tr>\n",
              "      <th>4</th>\n",
              "      <td>5</td>\n",
              "      <td>Netherlands</td>\n",
              "      <td>7.488</td>\n",
              "      <td>1.396</td>\n",
              "      <td>1.522</td>\n",
              "      <td>0.999</td>\n",
              "      <td>0.557</td>\n",
              "      <td>0.322</td>\n",
              "      <td>0.298</td>\n",
              "      <td>2019</td>\n",
              "    </tr>\n",
              "  </tbody>\n",
              "</table>\n",
              "</div>"
            ],
            "text/plain": [
              "   Happiness Rank      Country  Happiness Score  ...  Generosity  Trust  Year\n",
              "0               1      Finland            7.769  ...       0.153  0.393  2019\n",
              "1               2      Denmark            7.600  ...       0.252  0.410  2019\n",
              "2               3       Norway            7.554  ...       0.271  0.341  2019\n",
              "3               4      Iceland            7.494  ...       0.354  0.118  2019\n",
              "4               5  Netherlands            7.488  ...       0.322  0.298  2019\n",
              "\n",
              "[5 rows x 10 columns]"
            ]
          },
          "metadata": {
            "tags": []
          },
          "execution_count": 8
        }
      ]
    },
    {
      "cell_type": "code",
      "metadata": {
        "id": "2LajhHTNbT11"
      },
      "source": [
        "target = ['Top','Top-Mid', 'Low-Mid', 'Low' ]\n",
        "target_n = [4, 3, 2, 1]\n",
        "\n",
        "\n",
        "dataset2015[\"target\"] = pd.qcut(dataset2015['Happiness Rank'], len(target), labels=target)\n",
        "dataset2015[\"target_n\"] = pd.qcut(dataset2015['Happiness Rank'], len(target), labels=target_n)\n",
        "\n",
        "dataset2016[\"target\"] = pd.qcut(dataset2016['Happiness Rank'], len(target), labels=target)\n",
        "dataset2016[\"target_n\"] = pd.qcut(dataset2016['Happiness Rank'], len(target), labels=target_n)\n",
        "\n",
        "dataset2017[\"target\"] = pd.qcut(dataset2017['Happiness Rank'], len(target), labels=target)\n",
        "dataset2017[\"target_n\"] = pd.qcut(dataset2017['Happiness Rank'], len(target), labels=target_n)\n",
        "\n",
        "dataset2018[\"target\"] = pd.qcut(dataset2018['Happiness Rank'], len(target), labels=target)\n",
        "dataset2018[\"target_n\"] = pd.qcut(dataset2018['Happiness Rank'], len(target), labels=target_n)\n",
        "\n",
        "dataset2019[\"target\"] = pd.qcut(dataset2019['Happiness Rank'], len(target), labels=target)\n",
        "dataset2019[\"target_n\"] = pd.qcut(dataset2019['Happiness Rank'], len(target), labels=target_n)"
      ],
      "execution_count": 9,
      "outputs": []
    },
    {
      "cell_type": "code",
      "metadata": {
        "colab": {
          "base_uri": "https://localhost:8080/"
        },
        "id": "Ot4FjJ8um8_l",
        "outputId": "93e056ee-4b77-4bfd-c10f-2d9d20e94ed3"
      },
      "source": [
        "finaldf = dataset2015.append([dataset2016,dataset2017,dataset2018,dataset2019])\n",
        "# finaldf.dropna(inplace = True)\n",
        "\n",
        "#CHECKING FOR MISSING DATA\n",
        "finaldf.isnull().any()"
      ],
      "execution_count": 10,
      "outputs": [
        {
          "output_type": "execute_result",
          "data": {
            "text/plain": [
              "Country            False\n",
              "Happiness Rank     False\n",
              "Happiness Score    False\n",
              "Economy            False\n",
              "Family             False\n",
              "Health             False\n",
              "Freedom            False\n",
              "Trust               True\n",
              "Generosity         False\n",
              "Year               False\n",
              "target             False\n",
              "target_n           False\n",
              "dtype: bool"
            ]
          },
          "metadata": {
            "tags": []
          },
          "execution_count": 10
        }
      ]
    },
    {
      "cell_type": "code",
      "metadata": {
        "colab": {
          "base_uri": "https://localhost:8080/",
          "height": 359
        },
        "id": "--WLqDah4gW1",
        "outputId": "a9b06613-a185-4196-928f-7780ebfa25ad"
      },
      "source": [
        "# FILLING MISSING VALUES OF TRUST WITH ITS MEAN\n",
        "finaldf.Trust.fillna((finaldf.Trust.mean()), inplace = True)\n",
        "finaldf.head(10)"
      ],
      "execution_count": 11,
      "outputs": [
        {
          "output_type": "execute_result",
          "data": {
            "text/html": [
              "<div>\n",
              "<style scoped>\n",
              "    .dataframe tbody tr th:only-of-type {\n",
              "        vertical-align: middle;\n",
              "    }\n",
              "\n",
              "    .dataframe tbody tr th {\n",
              "        vertical-align: top;\n",
              "    }\n",
              "\n",
              "    .dataframe thead th {\n",
              "        text-align: right;\n",
              "    }\n",
              "</style>\n",
              "<table border=\"1\" class=\"dataframe\">\n",
              "  <thead>\n",
              "    <tr style=\"text-align: right;\">\n",
              "      <th></th>\n",
              "      <th>Country</th>\n",
              "      <th>Happiness Rank</th>\n",
              "      <th>Happiness Score</th>\n",
              "      <th>Economy</th>\n",
              "      <th>Family</th>\n",
              "      <th>Health</th>\n",
              "      <th>Freedom</th>\n",
              "      <th>Trust</th>\n",
              "      <th>Generosity</th>\n",
              "      <th>Year</th>\n",
              "      <th>target</th>\n",
              "      <th>target_n</th>\n",
              "    </tr>\n",
              "  </thead>\n",
              "  <tbody>\n",
              "    <tr>\n",
              "      <th>0</th>\n",
              "      <td>Switzerland</td>\n",
              "      <td>1</td>\n",
              "      <td>7.587</td>\n",
              "      <td>1.39651</td>\n",
              "      <td>1.34951</td>\n",
              "      <td>0.94143</td>\n",
              "      <td>0.66557</td>\n",
              "      <td>0.41978</td>\n",
              "      <td>0.29678</td>\n",
              "      <td>2015</td>\n",
              "      <td>Top</td>\n",
              "      <td>4</td>\n",
              "    </tr>\n",
              "    <tr>\n",
              "      <th>1</th>\n",
              "      <td>Iceland</td>\n",
              "      <td>2</td>\n",
              "      <td>7.561</td>\n",
              "      <td>1.30232</td>\n",
              "      <td>1.40223</td>\n",
              "      <td>0.94784</td>\n",
              "      <td>0.62877</td>\n",
              "      <td>0.14145</td>\n",
              "      <td>0.43630</td>\n",
              "      <td>2015</td>\n",
              "      <td>Top</td>\n",
              "      <td>4</td>\n",
              "    </tr>\n",
              "    <tr>\n",
              "      <th>2</th>\n",
              "      <td>Denmark</td>\n",
              "      <td>3</td>\n",
              "      <td>7.527</td>\n",
              "      <td>1.32548</td>\n",
              "      <td>1.36058</td>\n",
              "      <td>0.87464</td>\n",
              "      <td>0.64938</td>\n",
              "      <td>0.48357</td>\n",
              "      <td>0.34139</td>\n",
              "      <td>2015</td>\n",
              "      <td>Top</td>\n",
              "      <td>4</td>\n",
              "    </tr>\n",
              "    <tr>\n",
              "      <th>3</th>\n",
              "      <td>Norway</td>\n",
              "      <td>4</td>\n",
              "      <td>7.522</td>\n",
              "      <td>1.45900</td>\n",
              "      <td>1.33095</td>\n",
              "      <td>0.88521</td>\n",
              "      <td>0.66973</td>\n",
              "      <td>0.36503</td>\n",
              "      <td>0.34699</td>\n",
              "      <td>2015</td>\n",
              "      <td>Top</td>\n",
              "      <td>4</td>\n",
              "    </tr>\n",
              "    <tr>\n",
              "      <th>4</th>\n",
              "      <td>Canada</td>\n",
              "      <td>5</td>\n",
              "      <td>7.427</td>\n",
              "      <td>1.32629</td>\n",
              "      <td>1.32261</td>\n",
              "      <td>0.90563</td>\n",
              "      <td>0.63297</td>\n",
              "      <td>0.32957</td>\n",
              "      <td>0.45811</td>\n",
              "      <td>2015</td>\n",
              "      <td>Top</td>\n",
              "      <td>4</td>\n",
              "    </tr>\n",
              "    <tr>\n",
              "      <th>5</th>\n",
              "      <td>Finland</td>\n",
              "      <td>6</td>\n",
              "      <td>7.406</td>\n",
              "      <td>1.29025</td>\n",
              "      <td>1.31826</td>\n",
              "      <td>0.88911</td>\n",
              "      <td>0.64169</td>\n",
              "      <td>0.41372</td>\n",
              "      <td>0.23351</td>\n",
              "      <td>2015</td>\n",
              "      <td>Top</td>\n",
              "      <td>4</td>\n",
              "    </tr>\n",
              "    <tr>\n",
              "      <th>6</th>\n",
              "      <td>Netherlands</td>\n",
              "      <td>7</td>\n",
              "      <td>7.378</td>\n",
              "      <td>1.32944</td>\n",
              "      <td>1.28017</td>\n",
              "      <td>0.89284</td>\n",
              "      <td>0.61576</td>\n",
              "      <td>0.31814</td>\n",
              "      <td>0.47610</td>\n",
              "      <td>2015</td>\n",
              "      <td>Top</td>\n",
              "      <td>4</td>\n",
              "    </tr>\n",
              "    <tr>\n",
              "      <th>7</th>\n",
              "      <td>Sweden</td>\n",
              "      <td>8</td>\n",
              "      <td>7.364</td>\n",
              "      <td>1.33171</td>\n",
              "      <td>1.28907</td>\n",
              "      <td>0.91087</td>\n",
              "      <td>0.65980</td>\n",
              "      <td>0.43844</td>\n",
              "      <td>0.36262</td>\n",
              "      <td>2015</td>\n",
              "      <td>Top</td>\n",
              "      <td>4</td>\n",
              "    </tr>\n",
              "    <tr>\n",
              "      <th>8</th>\n",
              "      <td>New Zealand</td>\n",
              "      <td>9</td>\n",
              "      <td>7.286</td>\n",
              "      <td>1.25018</td>\n",
              "      <td>1.31967</td>\n",
              "      <td>0.90837</td>\n",
              "      <td>0.63938</td>\n",
              "      <td>0.42922</td>\n",
              "      <td>0.47501</td>\n",
              "      <td>2015</td>\n",
              "      <td>Top</td>\n",
              "      <td>4</td>\n",
              "    </tr>\n",
              "    <tr>\n",
              "      <th>9</th>\n",
              "      <td>Australia</td>\n",
              "      <td>10</td>\n",
              "      <td>7.284</td>\n",
              "      <td>1.33358</td>\n",
              "      <td>1.30923</td>\n",
              "      <td>0.93156</td>\n",
              "      <td>0.65124</td>\n",
              "      <td>0.35637</td>\n",
              "      <td>0.43562</td>\n",
              "      <td>2015</td>\n",
              "      <td>Top</td>\n",
              "      <td>4</td>\n",
              "    </tr>\n",
              "  </tbody>\n",
              "</table>\n",
              "</div>"
            ],
            "text/plain": [
              "       Country  Happiness Rank  Happiness Score  ...  Year  target  target_n\n",
              "0  Switzerland               1            7.587  ...  2015     Top         4\n",
              "1      Iceland               2            7.561  ...  2015     Top         4\n",
              "2      Denmark               3            7.527  ...  2015     Top         4\n",
              "3       Norway               4            7.522  ...  2015     Top         4\n",
              "4       Canada               5            7.427  ...  2015     Top         4\n",
              "5      Finland               6            7.406  ...  2015     Top         4\n",
              "6  Netherlands               7            7.378  ...  2015     Top         4\n",
              "7       Sweden               8            7.364  ...  2015     Top         4\n",
              "8  New Zealand               9            7.286  ...  2015     Top         4\n",
              "9    Australia              10            7.284  ...  2015     Top         4\n",
              "\n",
              "[10 rows x 12 columns]"
            ]
          },
          "metadata": {
            "tags": []
          },
          "execution_count": 11
        }
      ]
    },
    {
      "cell_type": "code",
      "metadata": {
        "id": "0ynDblndpCAB"
      },
      "source": [
        "finaldf.to_csv('data.csv',index=False) # Write to a CSV file"
      ],
      "execution_count": null,
      "outputs": []
    },
    {
      "cell_type": "markdown",
      "metadata": {
        "id": "kNc_7Pwhltjh"
      },
      "source": [
        "Happiness Score Distribution over the years 2015-2019"
      ]
    },
    {
      "cell_type": "code",
      "metadata": {
        "colab": {
          "base_uri": "https://localhost:8080/",
          "height": 409
        },
        "id": "0AzVmg4JsFok",
        "outputId": "47d5d15f-20b3-4cc5-c212-eb4662a69ad7"
      },
      "source": [
        "plt.figure(figsize=(10,6))\n",
        "sns.kdeplot(dataset2015['Happiness Score'],color='red', label='2015')\n",
        "sns.kdeplot(dataset2016['Happiness Score'],color='blue', label='2016')\n",
        "sns.kdeplot(dataset2017['Happiness Score'],color='limegreen', label='2017')\n",
        "sns.kdeplot(dataset2018['Happiness Score'],color='orange', label='2018')\n",
        "sns.kdeplot(dataset2019['Happiness Score'],color='pink', label='2019')\n",
        "plt.title('Happiness Over The Years',size=20)\n",
        "plt.legend()\n",
        "plt.show()"
      ],
      "execution_count": null,
      "outputs": [
        {
          "output_type": "display_data",
          "data": {
            "image/png": "[encoded data removed]",
            "text/plain": [
              "<Figure size 720x432 with 1 Axes>"
            ]
          },
          "metadata": {
            "tags": [],
            "needs_background": "light"
          }
        }
      ]
    },
    {
      "cell_type": "code",
      "metadata": {
        "colab": {
          "base_uri": "https://localhost:8080/",
          "height": 530
        },
        "id": "ZAsJjn_R-Bs4",
        "outputId": "724312f7-6d14-4e1d-b668-51c3fb4c826b"
      },
      "source": [
        "plt.figure(figsize=(10,8))\n",
        "df = finaldf[finaldf['Country']=='India']\n",
        "sns.lineplot(x=\"Year\", y=\"Economy\",data=df,label='India')\n",
        "\n",
        "df = finaldf[finaldf['Country']=='United States']\n",
        "sns.lineplot(x=\"Year\", y=\"Economy\",data=df,label='US')\n",
        "\n",
        "df = finaldf[finaldf['Country']=='Finland']\n",
        "sns.lineplot(x=\"Year\", y=\"Economy\",data=df,label='Finland')\n",
        "\n",
        "df = finaldf[finaldf['Country']=='United Kingdom']\n",
        "sns.lineplot(x=\"Year\", y=\"Economy\",data=df,label=\"UK\")\n",
        "\n",
        "df = finaldf[finaldf['Country']=='Canada']\n",
        "sns.lineplot(x=\"Year\", y=\"Economy\",data=df,label='Canada')\n",
        "\n",
        "plt.title(\"GDP per capita 2015-2019\")"
      ],
      "execution_count": 33,
      "outputs": [
        {
          "output_type": "execute_result",
          "data": {
            "text/plain": [
              "Text(0.5, 1.0, 'GDP per capita 2015-2019')"
            ]
          },
          "metadata": {
            "tags": []
          },
          "execution_count": 33
        },
        {
          "output_type": "display_data",
          "data": {
            "image/png": "[encoded data removed]",
            "text/plain": [
              "<Figure size 720x576 with 1 Axes>"
            ]
          },
          "metadata": {
            "tags": []
          }
        }
      ]
    },
    {
      "cell_type": "markdown",
      "metadata": {
        "id": "QnT40zqn5fmS"
      },
      "source": [
        "Jointplot shows Happiness score increases with GDP increase"
      ]
    },
    {
      "cell_type": "code",
      "metadata": {
        "colab": {
          "base_uri": "https://localhost:8080/",
          "height": 814
        },
        "id": "EFxJV9fd5dek",
        "outputId": "54ad2303-69ee-42fb-87d2-f649fbbb405e"
      },
      "source": [
        "plt.figure(figsize=(10,10))\n",
        "sns.jointplot(x = 'Economy', y = 'Happiness Score', data = dataset2015, size=10, color='red')\n",
        "plt.ylabel('Happiness Score', fontsize=12)\n",
        "plt.xlabel('Economy (GDP per Capita)', fontsize=12)\n",
        "plt.title('Economy (GDP per Capita) Vs Happiness', fontsize=15)\n",
        "plt.show()"
      ],
      "execution_count": null,
      "outputs": [
        {
          "output_type": "stream",
          "text": [
            "/usr/local/lib/python3.7/dist-packages/seaborn/axisgrid.py:2073: UserWarning:\n",
            "\n",
            "The `size` parameter has been renamed to `height`; please update your code.\n",
            "\n"
          ],
          "name": "stderr"
        },
        {
          "output_type": "display_data",
          "data": {
            "text/plain": [
              "<Figure size 720x720 with 0 Axes>"
            ]
          },
          "metadata": {
            "tags": []
          }
        },
        {
          "output_type": "display_data",
          "data": {
            "image/png": "[encoded data removed]",
            "text/plain": [
              "<Figure size 720x720 with 3 Axes>"
            ]
          },
          "metadata": {
            "tags": [],
            "needs_background": "light"
          }
        }
      ]
    },
    {
      "cell_type": "markdown",
      "metadata": {
        "id": "zUmKK3qc7AfB"
      },
      "source": [
        "The straight line fits well means those features are strongly related with Happiness Score.\n",
        "\n",
        "We've seen linear relationship with Happiness Score and GDP.\n",
        "\n",
        "Linear regression plotting for Generosity looks worse. Generosity doesn't effect Happiness Score much."
      ]
    },
    {
      "cell_type": "code",
      "metadata": {
        "colab": {
          "base_uri": "https://localhost:8080/",
          "height": 1000
        },
        "id": "NxvE0LTP6Ctx",
        "outputId": "7b1ebf87-7579-43fc-9feb-c46a446eaf4e"
      },
      "source": [
        "#Linear Regression Plotting\n",
        "cols = ['Economy','Family','Health','Freedom','Trust','Generosity']\n",
        "plt.figure(figsize=(12,28*4))\n",
        "gs = gridspec.GridSpec(28, 1)\n",
        "for i, cn in enumerate(cols):\n",
        "    ax = plt.subplot(gs[i])\n",
        "    #sns.distplot(df1[cn], bins=50)\n",
        "    sns.regplot(x=dataset2015[cn],y='Happiness Score' ,data=dataset2015)\n",
        "    ax.set_xlabel('')\n",
        "    ax.set_title('Regression of feature: ' + str(cn))\n",
        "plt.show()"
      ],
      "execution_count": null,
      "outputs": [
        {
          "output_type": "display_data",
          "data": {
            "image/png": "[encoded data removed]",
            "text/plain": [
              "<Figure size 864x8064 with 6 Axes>"
            ]
          },
          "metadata": {
            "tags": [],
            "needs_background": "light"
          }
        }
      ]
    },
    {
      "cell_type": "markdown",
      "metadata": {
        "id": "H9jWejbtoqM0"
      },
      "source": [
        "Economy vs Happiness Score from 2015- 2019"
      ]
    },
    {
      "cell_type": "code",
      "metadata": {
        "colab": {
          "base_uri": "https://localhost:8080/",
          "height": 452
        },
        "id": "eVkZ_6ZUons3",
        "outputId": "d87f3e5c-27d7-471c-aabe-cac9b4773f5b"
      },
      "source": [
        "fig = plt.figure(figsize=(10,6))\n",
        "sns.scatterplot(x= dataset2015['Happiness Score'],y=dataset2015['Economy'])\n",
        "sns.scatterplot(x= dataset2016['Happiness Score'],y=dataset2016['Economy'])\n",
        "sns.scatterplot(x= dataset2017['Happiness Score'],y=dataset2017['Economy'])\n",
        "sns.scatterplot(x= dataset2018['Happiness Score'],y=dataset2018['Economy'])\n",
        "sns.scatterplot(x= dataset2019['Happiness Score'],y=dataset2019['Economy'])\n",
        "fig.legend(labels=['2015','2016','2017','2018','2019'])\n",
        "plt.title(\"Economy vs Happiness Score from 2015- 2019\")"
      ],
      "execution_count": null,
      "outputs": [
        {
          "output_type": "execute_result",
          "data": {
            "text/plain": [
              "Text(0.5, 1.0, 'Economy vs Happiness Score from 2015- 2019')"
            ]
          },
          "metadata": {
            "tags": []
          },
          "execution_count": 25
        },
        {
          "output_type": "display_data",
          "data": {
            "image/png": "[encoded data removed]",
            "text/plain": [
              "<Figure size 720x432 with 1 Axes>"
            ]
          },
          "metadata": {
            "tags": [],
            "needs_background": "light"
          }
        }
      ]
    },
    {
      "cell_type": "markdown",
      "metadata": {
        "id": "Q84gxiogv6Wf"
      },
      "source": [
        "# Top 10 Happy Countries\n",
        "\n",
        "Let's see how those top happy countries have been through the years\n",
        "\n",
        "As of March 2020, Finland was ranked the happiest country in the world three times in a row."
      ]
    },
    {
      "cell_type": "code",
      "metadata": {
        "id": "r07xC0ozvCEW",
        "colab": {
          "base_uri": "https://localhost:8080/",
          "height": 374
        },
        "outputId": "d79da546-8c24-412b-b4ae-44f14cb1160a"
      },
      "source": [
        "#Happiness score(year-wise)\n",
        "data1=[dataset2019['Country'],dataset2015['Happiness Score'],dataset2016['Happiness Score'],dataset2017['Happiness Score'],\n",
        "       dataset2018['Happiness Score'],dataset2019['Happiness Score']]\n",
        "headers1=[\"Country\",\"2015\",\"2016\",\"2017\",\"2018\",\"2019\"]\n",
        "all_years_scores = pd.concat(data1, axis=1, keys=headers1,join='inner')\n",
        "\n",
        "labels = ['Finland','Denmark','Norway','Iceland','Netherlands','Switzerland','Sweden','New Zealand','Canada','Austria']\n",
        "top_10=all_years_scores.head(10)\n",
        "ax=top_10.plot.barh(rot=0)\n",
        "ax.set_yticklabels(labels)\n",
        "ax.set_yticklabels(ax.get_yticklabels(), fontsize=15)\n",
        "fig = plt.gcf()\n",
        "fig.set_size_inches(15,6)"
      ],
      "execution_count": null,
      "outputs": [
        {
          "output_type": "display_data",
          "data": {
            "image/png": "[encoded data removed]",
            "text/plain": [
              "<Figure size 1080x432 with 1 Axes>"
            ]
          },
          "metadata": {
            "tags": [],
            "needs_background": "light"
          }
        }
      ]
    },
    {
      "cell_type": "markdown",
      "metadata": {
        "id": "DmpIyLDEw_Ir"
      },
      "source": [
        "Many Countries were very consistent in maintaining the scores around 7.\n",
        "\n",
        "Finland has shown a better improvement by increase in their score every year.\n",
        "\n",
        "Austria's happiness score has been sloping down at a small rate in all the consecutive years.\n",
        "\n",
        "There has been a very short dip in 2017 in all the happy countries."
      ]
    },
    {
      "cell_type": "markdown",
      "metadata": {
        "id": "6py0N3arCPR4"
      },
      "source": [
        "# Top 10 Countries with best Economy\n",
        "\n",
        "America, Canada, Austrelia, Saudi Arabia, European Countries are the Leaders in the Economy and GDP."
      ]
    },
    {
      "cell_type": "code",
      "metadata": {
        "id": "HFCF1sCLCSzv",
        "colab": {
          "base_uri": "https://localhost:8080/",
          "height": 359
        },
        "outputId": "e38c56a8-d987-4dfa-f18d-690ea0acf652"
      },
      "source": [
        "dataset2017[['Country', 'Economy']].sort_values(by = 'Economy', ascending = False).head(10)"
      ],
      "execution_count": null,
      "outputs": [
        {
          "output_type": "execute_result",
          "data": {
            "text/html": [
              "<div>\n",
              "<style scoped>\n",
              "    .dataframe tbody tr th:only-of-type {\n",
              "        vertical-align: middle;\n",
              "    }\n",
              "\n",
              "    .dataframe tbody tr th {\n",
              "        vertical-align: top;\n",
              "    }\n",
              "\n",
              "    .dataframe thead th {\n",
              "        text-align: right;\n",
              "    }\n",
              "</style>\n",
              "<table border=\"1\" class=\"dataframe\">\n",
              "  <thead>\n",
              "    <tr style=\"text-align: right;\">\n",
              "      <th></th>\n",
              "      <th>Country</th>\n",
              "      <th>Economy</th>\n",
              "    </tr>\n",
              "  </thead>\n",
              "  <tbody>\n",
              "    <tr>\n",
              "      <th>34</th>\n",
              "      <td>Qatar</td>\n",
              "      <td>1.870766</td>\n",
              "    </tr>\n",
              "    <tr>\n",
              "      <th>17</th>\n",
              "      <td>Luxembourg</td>\n",
              "      <td>1.741944</td>\n",
              "    </tr>\n",
              "    <tr>\n",
              "      <th>25</th>\n",
              "      <td>Singapore</td>\n",
              "      <td>1.692278</td>\n",
              "    </tr>\n",
              "    <tr>\n",
              "      <th>38</th>\n",
              "      <td>Kuwait</td>\n",
              "      <td>1.632952</td>\n",
              "    </tr>\n",
              "    <tr>\n",
              "      <th>20</th>\n",
              "      <td>United Arab Emirates</td>\n",
              "      <td>1.626343</td>\n",
              "    </tr>\n",
              "    <tr>\n",
              "      <th>0</th>\n",
              "      <td>Norway</td>\n",
              "      <td>1.616463</td>\n",
              "    </tr>\n",
              "    <tr>\n",
              "      <th>3</th>\n",
              "      <td>Switzerland</td>\n",
              "      <td>1.564980</td>\n",
              "    </tr>\n",
              "    <tr>\n",
              "      <th>70</th>\n",
              "      <td>Hong Kong S.A.R., China</td>\n",
              "      <td>1.551675</td>\n",
              "    </tr>\n",
              "    <tr>\n",
              "      <th>13</th>\n",
              "      <td>United States</td>\n",
              "      <td>1.546259</td>\n",
              "    </tr>\n",
              "    <tr>\n",
              "      <th>14</th>\n",
              "      <td>Ireland</td>\n",
              "      <td>1.535707</td>\n",
              "    </tr>\n",
              "  </tbody>\n",
              "</table>\n",
              "</div>"
            ],
            "text/plain": [
              "                    Country   Economy\n",
              "34                    Qatar  1.870766\n",
              "17               Luxembourg  1.741944\n",
              "25                Singapore  1.692278\n",
              "38                   Kuwait  1.632952\n",
              "20     United Arab Emirates  1.626343\n",
              "0                    Norway  1.616463\n",
              "3               Switzerland  1.564980\n",
              "70  Hong Kong S.A.R., China  1.551675\n",
              "13            United States  1.546259\n",
              "14                  Ireland  1.535707"
            ]
          },
          "metadata": {
            "tags": []
          },
          "execution_count": 27
        }
      ]
    },
    {
      "cell_type": "code",
      "metadata": {
        "id": "9GrF-BOKWyMK"
      },
      "source": [
        "# Visualization of happiness score\n",
        "from plotly.offline import plot, iplot, init_notebook_mode\n",
        "init_notebook_mode(connected=True)\n",
        "import plotly.express as px\n",
        "\n",
        "fig = px.choropleth(dataset2015, locations='Country',\n",
        "                    locationmode='country names',\n",
        "                    color='Happiness Score',\n",
        "                    hover_name='Country',\n",
        "                    title='Happiness Index 2015',\n",
        "                    color_continuous_scale=px.colors.sequential.Plasma)\n",
        "fig.show()"
      ],
      "execution_count": null,
      "outputs": []
    },
    {
      "cell_type": "markdown",
      "metadata": {
        "id": "iK0loeBgnwOq"
      },
      "source": [
        "# Using the Final dataset from 2015-2019"
      ]
    },
    {
      "cell_type": "markdown",
      "metadata": {
        "id": "UsFBB_MBqq8b"
      },
      "source": [
        "**How is the Happiness Score distributed?**\n",
        "\n",
        "As seen below, the Happiness Score has values above 2.85 and below 7.76. There is no single country which has a Happiness Score above 8."
      ]
    },
    {
      "cell_type": "code",
      "metadata": {
        "colab": {
          "base_uri": "https://localhost:8080/",
          "height": 197
        },
        "id": "k2W866aLqdPB",
        "outputId": "3c7fba7b-db3b-4d31-a80e-4aad07385c42"
      },
      "source": [
        "fig = plt.figure(figsize=(8,6))\n",
        "seabornInstance.distplot(finaldf['Happiness Score'])\n",
        "plt.title('Distribution of Happiness Score')"
      ],
      "execution_count": 1,
      "outputs": [
        {
          "output_type": "error",
          "ename": "NameError",
          "evalue": "ignored",
          "traceback": [
            "\u001b[0;31m---------------------------------------------------------------------------\u001b[0m",
            "\u001b[0;31mNameError\u001b[0m                                 Traceback (most recent call last)",
            "\u001b[0;32m<ipython-input-1-4366a0e8388e>\u001b[0m in \u001b[0;36m<module>\u001b[0;34m()\u001b[0m\n\u001b[0;32m----> 1\u001b[0;31m \u001b[0mfig\u001b[0m \u001b[0;34m=\u001b[0m \u001b[0mplt\u001b[0m\u001b[0;34m.\u001b[0m\u001b[0mfigure\u001b[0m\u001b[0;34m(\u001b[0m\u001b[0mfigsize\u001b[0m\u001b[0;34m=\u001b[0m\u001b[0;34m(\u001b[0m\u001b[0;36m8\u001b[0m\u001b[0;34m,\u001b[0m\u001b[0;36m6\u001b[0m\u001b[0;34m)\u001b[0m\u001b[0;34m)\u001b[0m\u001b[0;34m\u001b[0m\u001b[0;34m\u001b[0m\u001b[0m\n\u001b[0m\u001b[1;32m      2\u001b[0m \u001b[0mseabornInstance\u001b[0m\u001b[0;34m.\u001b[0m\u001b[0mdistplot\u001b[0m\u001b[0;34m(\u001b[0m\u001b[0mfinaldf\u001b[0m\u001b[0;34m[\u001b[0m\u001b[0;34m'Happiness Score'\u001b[0m\u001b[0;34m]\u001b[0m\u001b[0;34m)\u001b[0m\u001b[0;34m\u001b[0m\u001b[0;34m\u001b[0m\u001b[0m\n\u001b[1;32m      3\u001b[0m \u001b[0mplt\u001b[0m\u001b[0;34m.\u001b[0m\u001b[0mtitle\u001b[0m\u001b[0;34m(\u001b[0m\u001b[0;34m'Distribution of Happiness Score'\u001b[0m\u001b[0;34m)\u001b[0m\u001b[0;34m\u001b[0m\u001b[0;34m\u001b[0m\u001b[0m\n",
            "\u001b[0;31mNameError\u001b[0m: name 'plt' is not defined"
          ]
        }
      ]
    },
    {
      "cell_type": "markdown",
      "metadata": {
        "id": "lYFexwL9qSlD"
      },
      "source": [
        "**Defining a Function to Calculate the Adjusted R2**\n",
        "\n",
        "R-squared increases when the number of features increases. Sometimes a more robust evaluator is preferred to compare the performance between different models. This evaluator is called adjusted R-squared, and it only increases, if the addition of the variable reduces the MSE."
      ]
    },
    {
      "cell_type": "code",
      "metadata": {
        "id": "AeSBtfvsqT5E"
      },
      "source": [
        "def  adjusted_R2(r2,n,k):\n",
        "    return r2-(k-1)/(n-k)*(1-r2)"
      ],
      "execution_count": 13,
      "outputs": []
    },
    {
      "cell_type": "markdown",
      "metadata": {
        "id": "L64PddC1rts8"
      },
      "source": [
        "**Defining an Empty dataframe**\n",
        "\n",
        "This dataframe includes Root Mean Squared Error (RMSE), R-squared, Adjusted R-squared, and mean of the R-squared values obtained by the k-Fold Cross-Validation, which are the essential metrics to compare different models. \n",
        "\n",
        "Having an R-squared value closer to one and smaller RMSE means a better fit. \n",
        "\n",
        "In the following sections, this dataframe will be filled with the results."
      ]
    },
    {
      "cell_type": "code",
      "metadata": {
        "id": "on32pJ8OredW"
      },
      "source": [
        "evaluation = pd.DataFrame({'Model':[],\n",
        "                          'Details':[],\n",
        "                          'Root Mean Squared Error (RMSE)': [],\n",
        "                          'R-squared (training)': [],\n",
        "                          'Adjusted R-squared (training)': [],\n",
        "                          'R-squared (test)':[],\n",
        "                          'Adjusted R-squared(test)':[],\n",
        "                           '5-Fold Cross Validation':[]\n",
        "                        })\n",
        "seabornInstance.set_style(style='whitegrid')"
      ],
      "execution_count": 14,
      "outputs": []
    },
    {
      "cell_type": "markdown",
      "metadata": {
        "id": "o_EGpxT9qFGi"
      },
      "source": [
        "# Simple Linear Regression\n",
        "\n",
        "**Economy (GDP per capita)**"
      ]
    },
    {
      "cell_type": "code",
      "metadata": {
        "colab": {
          "base_uri": "https://localhost:8080/",
          "height": 182
        },
        "id": "3tvmaYfHnu6g",
        "outputId": "d8a7aedb-f320-4cc8-b603-e3edafac9378"
      },
      "source": [
        "train_data_slr, test_data_slr = train_test_split(finaldf, train_size = 0.8, random_state = 3)\n",
        "lr = LinearRegression()\n",
        "\n",
        "X_train_slr = np.array(train_data_slr['Economy'], dtype = pd.Series).reshape(-1,1)\n",
        "y_train_slr = np.array(train_data_slr['Happiness Score'], dtype = pd.Series)\n",
        "lr.fit(X_train_slr, y_train_slr)\n",
        "\n",
        "X_test_slr = np.array(test_data_slr['Economy'], dtype = pd.Series).reshape(-1,1)\n",
        "y_test_slr = np.array(test_data_slr['Happiness Score'], dtype = pd.Series)\n",
        "pred_slr = lr.predict(X_test_slr)\n",
        "\n",
        "#ROOT MEAN SQUARED ERROR\n",
        "rmsesm1 = float(format (np.sqrt(metrics.mean_squared_error(y_test_slr,pred_slr)),'.3f'))\n",
        "#R-SQUARED (TRAINING)\n",
        "rtrsm1 = float(format (lr.score(X_train_slr, y_train_slr),'.3f'))\n",
        "#R-SQUARED (TEST)\n",
        "rtesm1 = float(format (lr.score(X_test_slr, y_test_slr),'.3f'))\n",
        "#CROSS VALIDATION SCORE\n",
        "cv1 = float(format (cross_val_score(lr,finaldf[['Economy']],finaldf['Happiness Score'],cv=5).mean(),'.3f'))\n",
        "\n",
        "print (\"Average Score for Test Data: {:.3f}\".format (y_test_slr.mean()))\n",
        "print ('Intercept: {}'.format (lr.intercept_))\n",
        "print ('Coefficient: {}'.format (lr.coef_))\n",
        "print ('Happiness score = ',np.round (lr.intercept_,4),'+',np.round (lr.coef_,4),'* Economy')\n",
        "\n",
        "r1 = evaluation.shape[0]\n",
        "evaluation.loc[r1] = ['Simple Linear Regression','-',rmsesm1,rtrsm1,'-',rtesm1,'-',cv1]\n",
        "evaluation"
      ],
      "execution_count": null,
      "outputs": [
        {
          "output_type": "stream",
          "text": [
            "Average Score for Test Data: 5.388\n",
            "Intercept: 3.430174973775516\n",
            "Coefficient: [2.14115845]\n",
            "Happiness score =  3.4302 + [2.1412] * Economy\n"
          ],
          "name": "stdout"
        },
        {
          "output_type": "execute_result",
          "data": {
            "text/html": [
              "<div>\n",
              "<style scoped>\n",
              "    .dataframe tbody tr th:only-of-type {\n",
              "        vertical-align: middle;\n",
              "    }\n",
              "\n",
              "    .dataframe tbody tr th {\n",
              "        vertical-align: top;\n",
              "    }\n",
              "\n",
              "    .dataframe thead th {\n",
              "        text-align: right;\n",
              "    }\n",
              "</style>\n",
              "<table border=\"1\" class=\"dataframe\">\n",
              "  <thead>\n",
              "    <tr style=\"text-align: right;\">\n",
              "      <th></th>\n",
              "      <th>Model</th>\n",
              "      <th>Details</th>\n",
              "      <th>Root Mean Squared Error (RMSE)</th>\n",
              "      <th>R-squared (training)</th>\n",
              "      <th>Adjusted R-squared (training)</th>\n",
              "      <th>R-squared (test)</th>\n",
              "      <th>Adjusted R-squared(test)</th>\n",
              "      <th>5-Fold Cross Validation</th>\n",
              "    </tr>\n",
              "  </thead>\n",
              "  <tbody>\n",
              "    <tr>\n",
              "      <th>0</th>\n",
              "      <td>Simple Linear Regression</td>\n",
              "      <td>-</td>\n",
              "      <td>0.708</td>\n",
              "      <td>0.62</td>\n",
              "      <td>-</td>\n",
              "      <td>0.632</td>\n",
              "      <td>-</td>\n",
              "      <td>0.617</td>\n",
              "    </tr>\n",
              "  </tbody>\n",
              "</table>\n",
              "</div>"
            ],
            "text/plain": [
              "                      Model  ... 5-Fold Cross Validation\n",
              "0  Simple Linear Regression  ...                   0.617\n",
              "\n",
              "[1 rows x 8 columns]"
            ]
          },
          "metadata": {
            "tags": []
          },
          "execution_count": 38
        }
      ]
    },
    {
      "cell_type": "markdown",
      "metadata": {
        "id": "PZSYtqzwwbjk"
      },
      "source": [
        "The relationship between GDP per capita(Economy of the country) has a strong positive correlation with Happiness Score, that is, if the GDP per capita of a country is higher than the Happiness Score of that country, it is also more likely to be high."
      ]
    },
    {
      "cell_type": "code",
      "metadata": {
        "colab": {
          "base_uri": "https://localhost:8080/",
          "height": 400
        },
        "id": "ueBhpUpCnvQO",
        "outputId": "ff0e7cb2-1e09-4519-bfd8-aab5042eb822"
      },
      "source": [
        "# Plot\n",
        "seabornInstance.set_style(style='whitegrid')\n",
        "\n",
        "plt.figure(figsize=(12,6))\n",
        "plt.scatter(X_test_slr, y_test_slr, color='blue', label=\"Data\", s = 12)\n",
        "plt.plot(X_test_slr, lr.predict(X_test_slr), color=\"red\", label=\"Predicted Regression Line\")\n",
        "plt.xlabel(\"Economy (GDP per Captita)\", fontsize=15)\n",
        "plt.ylabel(\"Happiness Score\", fontsize=15)\n",
        "plt.xticks(fontsize=13)\n",
        "plt.yticks(fontsize=13)\n",
        "plt.legend()\n",
        "\n",
        "plt.gca().spines['right'].set_visible(False)\n",
        "plt.gca().spines['top'].set_visible(False)"
      ],
      "execution_count": null,
      "outputs": [
        {
          "output_type": "display_data",
          "data": {
            "image/png": "[encoded data removed]",
            "text/plain": [
              "<Figure size 864x432 with 1 Axes>"
            ]
          },
          "metadata": {
            "tags": []
          }
        }
      ]
    },
    {
      "cell_type": "code",
      "metadata": {
        "id": "N0hyeeesnvRc"
      },
      "source": [
        "'''Happiness score vs gdp per capital'''\n",
        "px.scatter(finaldf, x=\"Economy\", y=\"Happiness Score\", animation_frame=\"Year\",\n",
        "           animation_group=\"Country\",\n",
        "           size=\"Happiness Rank\", color=\"Country\", hover_name=\"Country\",\n",
        "           trendline= \"ols\")"
      ],
      "execution_count": null,
      "outputs": []
    },
    {
      "cell_type": "markdown",
      "metadata": {
        "id": "DnZ0wFOyyDhT"
      },
      "source": [
        "# Multiple Linear Regression"
      ]
    },
    {
      "cell_type": "code",
      "metadata": {
        "id": "i12RDiUOyG0x",
        "colab": {
          "base_uri": "https://localhost:8080/",
          "height": 165
        },
        "outputId": "887b1ae7-08d0-4167-b057-e205d97a703d"
      },
      "source": [
        "train_data, test_data = train_test_split(finaldf, train_size = 0.8, random_state=3)\n",
        "independent_var = ['Economy','Health','Freedom','Family','Generosity','Trust']\n",
        "\n",
        "X_train = train_data[independent_var]\n",
        "y_train = train_data['Happiness Score']\n",
        "\n",
        "mlr = LinearRegression()\n",
        "mlr.fit(X_train,y_train)\n",
        "\n",
        "X_test = test_data[independent_var]\n",
        "y_test = test_data['Happiness Score']\n",
        "pred = mlr.predict(X_test)\n",
        "\n",
        "print ('Intercept: {}'.format (mlr.intercept_))\n",
        "print ('Coefficients: {}'.format (mlr.coef_))\n",
        "print ('Happiness score = ',np.round (mlr.intercept_,4),\n",
        "      '+',np.round (mlr.coef_[0],4),'∗ Family',\n",
        "      '+',np.round (mlr.coef_[1],4),'* Economy', \n",
        "      '+',np.round (mlr.coef_[2],4),'* Health',\n",
        "      '+',np.round (mlr.coef_[3],4),'* Freedom',\n",
        "       '+',np.round (mlr.coef_[4],4),'* Generosity',\n",
        "      '+',np.round (mlr.coef_[5],4),'* Trust')\n",
        "\n",
        "\n",
        "#ROOT MEAN SQUARED ERROR\n",
        "rmsecm = float(format (np.sqrt(metrics.mean_squared_error(y_test , pred)),'.3f'))\n",
        "\n",
        "#R-SQUARED (TRAINING)\n",
        "rtrcm = float(format (mlr.score(X_train, y_train),'.3f'))\n",
        "\n",
        "#ADJUSTED R-SQUARED (TRAINING)\n",
        "artrcm = float(format (adjusted_R2(mlr.score(X_train, y_train),\n",
        "                            train_data.shape[0],\n",
        "                            len (independent_var)),'.3f'))\n",
        "\n",
        "#R-SQUARED (TEST)\n",
        "rtecm = float(format (mlr.score(X_test, y_test),'.3f'))\n",
        "\n",
        "#ADJUSTED R-SQUARED (TEST)\n",
        "artecm = float(format (adjusted_R2(mlr.score(X_test, y_test),\n",
        "                        test_data.shape[0],\n",
        "                        len (independent_var)),'.3f'))\n",
        "\n",
        "#CROSS VALIDATION SCORE\n",
        "cv = float(format (cross_val_score(mlr, finaldf[independent_var], finaldf['Happiness Score'],cv=5).mean(),'.3f'))\n",
        "\n",
        "r = evaluation.shape[0]\n",
        "evaluation.loc[r] = ['Multiple Linear Regression','using 6 main features',rmsecm,rtrcm,artrcm,rtecm,artecm,cv]\n",
        "evaluation.sort_values(by = '5-Fold Cross Validation', ascending=False)"
      ],
      "execution_count": 15,
      "outputs": [
        {
          "output_type": "stream",
          "text": [
            "Intercept: 2.1884796469865724\n",
            "Coefficients: [1.12724424 0.98795953 1.44561218 0.65576355 0.71379289 0.85693148]\n",
            "Happiness score =  2.1885 + 1.1272 ∗ Family + 0.988 * Economy + 1.4456 * Health + 0.6558 * Freedom + 0.7138 * Generosity + 0.8569 * Trust\n"
          ],
          "name": "stdout"
        },
        {
          "output_type": "execute_result",
          "data": {
            "text/html": [
              "<div>\n",
              "<style scoped>\n",
              "    .dataframe tbody tr th:only-of-type {\n",
              "        vertical-align: middle;\n",
              "    }\n",
              "\n",
              "    .dataframe tbody tr th {\n",
              "        vertical-align: top;\n",
              "    }\n",
              "\n",
              "    .dataframe thead th {\n",
              "        text-align: right;\n",
              "    }\n",
              "</style>\n",
              "<table border=\"1\" class=\"dataframe\">\n",
              "  <thead>\n",
              "    <tr style=\"text-align: right;\">\n",
              "      <th></th>\n",
              "      <th>Model</th>\n",
              "      <th>Details</th>\n",
              "      <th>Root Mean Squared Error (RMSE)</th>\n",
              "      <th>R-squared (training)</th>\n",
              "      <th>Adjusted R-squared (training)</th>\n",
              "      <th>R-squared (test)</th>\n",
              "      <th>Adjusted R-squared(test)</th>\n",
              "      <th>5-Fold Cross Validation</th>\n",
              "    </tr>\n",
              "  </thead>\n",
              "  <tbody>\n",
              "    <tr>\n",
              "      <th>0</th>\n",
              "      <td>Multiple Linear Regression</td>\n",
              "      <td>using 6 main features</td>\n",
              "      <td>0.568</td>\n",
              "      <td>0.764</td>\n",
              "      <td>0.762</td>\n",
              "      <td>0.763</td>\n",
              "      <td>0.755</td>\n",
              "      <td>0.739</td>\n",
              "    </tr>\n",
              "  </tbody>\n",
              "</table>\n",
              "</div>"
            ],
            "text/plain": [
              "                        Model  ... 5-Fold Cross Validation\n",
              "0  Multiple Linear Regression  ...                   0.739\n",
              "\n",
              "[1 rows x 8 columns]"
            ]
          },
          "metadata": {
            "tags": []
          },
          "execution_count": 15
        }
      ]
    },
    {
      "cell_type": "markdown",
      "metadata": {
        "id": "ZIG2PZkJ_5z4"
      },
      "source": [
        "# Multilayer Perceptron"
      ]
    },
    {
      "cell_type": "code",
      "metadata": {
        "id": "8o0HkvwF_5GT"
      },
      "source": [
        "train_data, test_data = train_test_split(finaldf, train_size = 0.8, random_state=3)\n",
        "independent_var = ['Economy','Health','Freedom','Family','Generosity','Trust']\n",
        "\n",
        "X_train = train_data[independent_var]\n",
        "y_train = train_data['Happiness Score']\n",
        "X_test = test_data[independent_var]\n",
        "y_test = test_data['Happiness Score']\n",
        "\n",
        "from sklearn.neural_network import MLPRegressor"
      ],
      "execution_count": null,
      "outputs": []
    },
    {
      "cell_type": "code",
      "metadata": {
        "colab": {
          "base_uri": "https://localhost:8080/"
        },
        "id": "KIv9i6WmvSge",
        "outputId": "bedb0aae-cdff-419f-d56f-dfd200a15008"
      },
      "source": [
        "#2 hidden layers with 30 and 20 neurons each\n",
        "mlp = MLPRegressor(hidden_layer_sizes=(100,), solver='lbfgs', learning_rate='adaptive', max_iter=1000, learning_rate_init=0.01)\n",
        "mlp.fit(X_train,y_train)\n",
        "pred = mlp.predict(X_test)"
      ],
      "execution_count": 25,
      "outputs": [
        {
          "output_type": "stream",
          "text": [
            "/usr/local/lib/python3.7/dist-packages/sklearn/neural_network/_multilayer_perceptron.py:470: ConvergenceWarning:\n",
            "\n",
            "lbfgs failed to converge (status=1):\n",
            "STOP: TOTAL NO. of ITERATIONS REACHED LIMIT.\n",
            "\n",
            "Increase the number of iterations (max_iter) or scale the data as shown in:\n",
            "    https://scikit-learn.org/stable/modules/preprocessing.html\n",
            "\n"
          ],
          "name": "stderr"
        }
      ]
    },
    {
      "cell_type": "code",
      "metadata": {
        "colab": {
          "base_uri": "https://localhost:8080/",
          "height": 1000
        },
        "id": "gTePkoBQvXom",
        "outputId": "52f98689-d614-449c-a351-f85e8acef1eb"
      },
      "source": [
        "#ROOT MEAN SQUARED ERROR\n",
        "rmsecm = float(format (np.sqrt(metrics.mean_squared_error(y_test , pred)),'.3f'))\n",
        "\n",
        "#R-SQUARED (TRAINING)\n",
        "rtrcm = float(format (mlp.score(X_train, y_train),'.3f'))\n",
        "\n",
        "#ADJUSTED R-SQUARED (TRAINING)\n",
        "artrcm = float(format (adjusted_R2(mlp.score(X_train, y_train),\n",
        "                            train_data.shape[0],\n",
        "                            len (independent_var)),'.3f'))\n",
        "\n",
        "#R-SQUARED (TEST)\n",
        "rtecm = float(format (mlp.score(X_test, y_test),'.3f'))\n",
        "\n",
        "#ADJUSTED R-SQUARED (TEST)\n",
        "artecm = float(format (adjusted_R2(mlp.score(X_test, y_test),\n",
        "                        test_data.shape[0],\n",
        "                        len (independent_var)),'.3f'))\n",
        "\n",
        "#CROSS VALIDATION SCORE\n",
        "cv = float(format (cross_val_score(mlp, finaldf[independent_var], finaldf['Happiness Score'],cv=5).mean(),'.3f'))\n",
        "\n",
        "r = evaluation.shape[0]\n",
        "evaluation.loc[r] = ['Multilayer Perceptron','one hidden, lbfgs',rmsecm,rtrcm,artrcm,rtecm,artecm,cv]\n",
        "evaluation.sort_values(by = '5-Fold Cross Validation', ascending=False)"
      ],
      "execution_count": 26,
      "outputs": [
        {
          "output_type": "stream",
          "text": [
            "/usr/local/lib/python3.7/dist-packages/sklearn/neural_network/_multilayer_perceptron.py:470: ConvergenceWarning:\n",
            "\n",
            "lbfgs failed to converge (status=1):\n",
            "STOP: TOTAL NO. of ITERATIONS REACHED LIMIT.\n",
            "\n",
            "Increase the number of iterations (max_iter) or scale the data as shown in:\n",
            "    https://scikit-learn.org/stable/modules/preprocessing.html\n",
            "\n",
            "/usr/local/lib/python3.7/dist-packages/sklearn/neural_network/_multilayer_perceptron.py:470: ConvergenceWarning:\n",
            "\n",
            "lbfgs failed to converge (status=1):\n",
            "STOP: TOTAL NO. of ITERATIONS REACHED LIMIT.\n",
            "\n",
            "Increase the number of iterations (max_iter) or scale the data as shown in:\n",
            "    https://scikit-learn.org/stable/modules/preprocessing.html\n",
            "\n",
            "/usr/local/lib/python3.7/dist-packages/sklearn/neural_network/_multilayer_perceptron.py:470: ConvergenceWarning:\n",
            "\n",
            "lbfgs failed to converge (status=1):\n",
            "STOP: TOTAL NO. of ITERATIONS REACHED LIMIT.\n",
            "\n",
            "Increase the number of iterations (max_iter) or scale the data as shown in:\n",
            "    https://scikit-learn.org/stable/modules/preprocessing.html\n",
            "\n",
            "/usr/local/lib/python3.7/dist-packages/sklearn/neural_network/_multilayer_perceptron.py:470: ConvergenceWarning:\n",
            "\n",
            "lbfgs failed to converge (status=1):\n",
            "STOP: TOTAL NO. of ITERATIONS REACHED LIMIT.\n",
            "\n",
            "Increase the number of iterations (max_iter) or scale the data as shown in:\n",
            "    https://scikit-learn.org/stable/modules/preprocessing.html\n",
            "\n",
            "/usr/local/lib/python3.7/dist-packages/sklearn/neural_network/_multilayer_perceptron.py:470: ConvergenceWarning:\n",
            "\n",
            "lbfgs failed to converge (status=1):\n",
            "STOP: TOTAL NO. of ITERATIONS REACHED LIMIT.\n",
            "\n",
            "Increase the number of iterations (max_iter) or scale the data as shown in:\n",
            "    https://scikit-learn.org/stable/modules/preprocessing.html\n",
            "\n"
          ],
          "name": "stderr"
        },
        {
          "output_type": "execute_result",
          "data": {
            "text/html": [
              "<div>\n",
              "<style scoped>\n",
              "    .dataframe tbody tr th:only-of-type {\n",
              "        vertical-align: middle;\n",
              "    }\n",
              "\n",
              "    .dataframe tbody tr th {\n",
              "        vertical-align: top;\n",
              "    }\n",
              "\n",
              "    .dataframe thead th {\n",
              "        text-align: right;\n",
              "    }\n",
              "</style>\n",
              "<table border=\"1\" class=\"dataframe\">\n",
              "  <thead>\n",
              "    <tr style=\"text-align: right;\">\n",
              "      <th></th>\n",
              "      <th>Model</th>\n",
              "      <th>Details</th>\n",
              "      <th>Root Mean Squared Error (RMSE)</th>\n",
              "      <th>R-squared (training)</th>\n",
              "      <th>Adjusted R-squared (training)</th>\n",
              "      <th>R-squared (test)</th>\n",
              "      <th>Adjusted R-squared(test)</th>\n",
              "      <th>5-Fold Cross Validation</th>\n",
              "    </tr>\n",
              "  </thead>\n",
              "  <tbody>\n",
              "    <tr>\n",
              "      <th>3</th>\n",
              "      <td>Multilayer Perceptron</td>\n",
              "      <td>one hidden layer</td>\n",
              "      <td>0.498</td>\n",
              "      <td>0.885</td>\n",
              "      <td>0.884</td>\n",
              "      <td>0.818</td>\n",
              "      <td>0.812</td>\n",
              "      <td>0.748</td>\n",
              "    </tr>\n",
              "    <tr>\n",
              "      <th>5</th>\n",
              "      <td>Multilayer Perceptron</td>\n",
              "      <td>adam</td>\n",
              "      <td>0.562</td>\n",
              "      <td>0.766</td>\n",
              "      <td>0.765</td>\n",
              "      <td>0.768</td>\n",
              "      <td>0.761</td>\n",
              "      <td>0.744</td>\n",
              "    </tr>\n",
              "    <tr>\n",
              "      <th>0</th>\n",
              "      <td>Multiple Linear Regression</td>\n",
              "      <td>using 6 main features</td>\n",
              "      <td>0.568</td>\n",
              "      <td>0.764</td>\n",
              "      <td>0.762</td>\n",
              "      <td>0.763</td>\n",
              "      <td>0.755</td>\n",
              "      <td>0.739</td>\n",
              "    </tr>\n",
              "    <tr>\n",
              "      <th>4</th>\n",
              "      <td>Multilayer Perceptron</td>\n",
              "      <td>adam</td>\n",
              "      <td>0.565</td>\n",
              "      <td>0.764</td>\n",
              "      <td>0.762</td>\n",
              "      <td>0.765</td>\n",
              "      <td>0.758</td>\n",
              "      <td>0.739</td>\n",
              "    </tr>\n",
              "    <tr>\n",
              "      <th>6</th>\n",
              "      <td>Multilayer Perceptron</td>\n",
              "      <td>one hidden, lbfgs</td>\n",
              "      <td>0.499</td>\n",
              "      <td>0.862</td>\n",
              "      <td>0.861</td>\n",
              "      <td>0.817</td>\n",
              "      <td>0.811</td>\n",
              "      <td>0.731</td>\n",
              "    </tr>\n",
              "    <tr>\n",
              "      <th>2</th>\n",
              "      <td>Multilayer Perceptron</td>\n",
              "      <td>using 6 main features</td>\n",
              "      <td>0.530</td>\n",
              "      <td>0.886</td>\n",
              "      <td>0.885</td>\n",
              "      <td>0.794</td>\n",
              "      <td>0.787</td>\n",
              "      <td>0.727</td>\n",
              "    </tr>\n",
              "    <tr>\n",
              "      <th>1</th>\n",
              "      <td>Multilayer Perceptron</td>\n",
              "      <td>using 6 main features</td>\n",
              "      <td>0.517</td>\n",
              "      <td>0.857</td>\n",
              "      <td>0.856</td>\n",
              "      <td>0.804</td>\n",
              "      <td>0.797</td>\n",
              "      <td>0.725</td>\n",
              "    </tr>\n",
              "  </tbody>\n",
              "</table>\n",
              "</div>"
            ],
            "text/plain": [
              "                        Model  ... 5-Fold Cross Validation\n",
              "3       Multilayer Perceptron  ...                   0.748\n",
              "5       Multilayer Perceptron  ...                   0.744\n",
              "0  Multiple Linear Regression  ...                   0.739\n",
              "4       Multilayer Perceptron  ...                   0.739\n",
              "6       Multilayer Perceptron  ...                   0.731\n",
              "2       Multilayer Perceptron  ...                   0.727\n",
              "1       Multilayer Perceptron  ...                   0.725\n",
              "\n",
              "[7 rows x 8 columns]"
            ]
          },
          "metadata": {
            "tags": []
          },
          "execution_count": 26
        }
      ]
    },
    {
      "cell_type": "markdown",
      "metadata": {
        "id": "LKwPX1KnxPa8"
      },
      "source": [
        "**Correlation Among Explanatory Variables**\n",
        "\n",
        "It looks like Economy, Health, and Support are strongly correlated with the Happiness score. \n",
        "\n",
        "Freedom correlates quite well with the Happiness score; however, Freedom connects quite well with all data. \n",
        "\n",
        "Trust (Government Corruption) still has a mediocre correlation with the Happiness score."
      ]
    },
    {
      "cell_type": "code",
      "metadata": {
        "colab": {
          "base_uri": "https://localhost:8080/",
          "height": 721
        },
        "id": "tzxGQAg-uQYd",
        "outputId": "b98210f8-97f6-4870-d496-89b471f7af1e"
      },
      "source": [
        "#Correlations among Variables\n",
        "\n",
        "usecols = ['Happiness Rank','Country','Happiness Score','Economy','Family',\n",
        "                'Health','Freedom','Generosity','Trust']\n",
        "\n",
        "mask = np.zeros_like(finaldf[usecols].corr(), dtype=np.bool) \n",
        "mask[np.triu_indices_from(mask)] = True \n",
        "\n",
        "f, ax = plt.subplots(figsize=(16, 12))\n",
        "plt.title('Pearson Correlation Matrix',fontsize=20)\n",
        "\n",
        "seabornInstance.heatmap(finaldf[usecols].corr(),\n",
        "                        linewidths=0.25,vmax=0.7,square=True,cmap=\"Blues\", \n",
        "            linecolor='w',annot=True,annot_kws={\"size\":8},mask=mask,cbar_kws={\"shrink\": .9});"
      ],
      "execution_count": null,
      "outputs": [
        {
          "output_type": "display_data",
          "data": {
            "image/png": "[encoded data removed]",
            "text/plain": [
              "<Figure size 1152x864 with 2 Axes>"
            ]
          },
          "metadata": {
            "tags": []
          }
        }
      ]
    },
    {
      "cell_type": "markdown",
      "metadata": {
        "id": "RUycjRohv7tv"
      },
      "source": [
        "Clustering - Trial 1\n"
      ]
    },
    {
      "cell_type": "code",
      "metadata": {
        "id": "t-qneUA4g-ki"
      },
      "source": [
        "h2017=pd.read_csv('2017.csv')"
      ],
      "execution_count": null,
      "outputs": []
    },
    {
      "cell_type": "code",
      "metadata": {
        "colab": {
          "base_uri": "https://localhost:8080/",
          "height": 224
        },
        "id": "PVQRFMxchE8Q",
        "outputId": "a587502d-4395-49da-8443-c3d30d6831a2"
      },
      "source": [
        "h2017.head()"
      ],
      "execution_count": null,
      "outputs": [
        {
          "output_type": "execute_result",
          "data": {
            "text/html": [
              "<div>\n",
              "<style scoped>\n",
              "    .dataframe tbody tr th:only-of-type {\n",
              "        vertical-align: middle;\n",
              "    }\n",
              "\n",
              "    .dataframe tbody tr th {\n",
              "        vertical-align: top;\n",
              "    }\n",
              "\n",
              "    .dataframe thead th {\n",
              "        text-align: right;\n",
              "    }\n",
              "</style>\n",
              "<table border=\"1\" class=\"dataframe\">\n",
              "  <thead>\n",
              "    <tr style=\"text-align: right;\">\n",
              "      <th></th>\n",
              "      <th>Country</th>\n",
              "      <th>Happiness.Rank</th>\n",
              "      <th>Happiness.Score</th>\n",
              "      <th>Whisker.high</th>\n",
              "      <th>Whisker.low</th>\n",
              "      <th>Economy..GDP.per.Capita.</th>\n",
              "      <th>Family</th>\n",
              "      <th>Health..Life.Expectancy.</th>\n",
              "      <th>Freedom</th>\n",
              "      <th>Generosity</th>\n",
              "      <th>Trust..Government.Corruption.</th>\n",
              "      <th>Dystopia.Residual</th>\n",
              "    </tr>\n",
              "  </thead>\n",
              "  <tbody>\n",
              "    <tr>\n",
              "      <th>0</th>\n",
              "      <td>Norway</td>\n",
              "      <td>1</td>\n",
              "      <td>7.537</td>\n",
              "      <td>7.594445</td>\n",
              "      <td>7.479556</td>\n",
              "      <td>1.616463</td>\n",
              "      <td>1.533524</td>\n",
              "      <td>0.796667</td>\n",
              "      <td>0.635423</td>\n",
              "      <td>0.362012</td>\n",
              "      <td>0.315964</td>\n",
              "      <td>2.277027</td>\n",
              "    </tr>\n",
              "    <tr>\n",
              "      <th>1</th>\n",
              "      <td>Denmark</td>\n",
              "      <td>2</td>\n",
              "      <td>7.522</td>\n",
              "      <td>7.581728</td>\n",
              "      <td>7.462272</td>\n",
              "      <td>1.482383</td>\n",
              "      <td>1.551122</td>\n",
              "      <td>0.792566</td>\n",
              "      <td>0.626007</td>\n",
              "      <td>0.355280</td>\n",
              "      <td>0.400770</td>\n",
              "      <td>2.313707</td>\n",
              "    </tr>\n",
              "    <tr>\n",
              "      <th>2</th>\n",
              "      <td>Iceland</td>\n",
              "      <td>3</td>\n",
              "      <td>7.504</td>\n",
              "      <td>7.622030</td>\n",
              "      <td>7.385970</td>\n",
              "      <td>1.480633</td>\n",
              "      <td>1.610574</td>\n",
              "      <td>0.833552</td>\n",
              "      <td>0.627163</td>\n",
              "      <td>0.475540</td>\n",
              "      <td>0.153527</td>\n",
              "      <td>2.322715</td>\n",
              "    </tr>\n",
              "    <tr>\n",
              "      <th>3</th>\n",
              "      <td>Switzerland</td>\n",
              "      <td>4</td>\n",
              "      <td>7.494</td>\n",
              "      <td>7.561772</td>\n",
              "      <td>7.426227</td>\n",
              "      <td>1.564980</td>\n",
              "      <td>1.516912</td>\n",
              "      <td>0.858131</td>\n",
              "      <td>0.620071</td>\n",
              "      <td>0.290549</td>\n",
              "      <td>0.367007</td>\n",
              "      <td>2.276716</td>\n",
              "    </tr>\n",
              "    <tr>\n",
              "      <th>4</th>\n",
              "      <td>Finland</td>\n",
              "      <td>5</td>\n",
              "      <td>7.469</td>\n",
              "      <td>7.527542</td>\n",
              "      <td>7.410458</td>\n",
              "      <td>1.443572</td>\n",
              "      <td>1.540247</td>\n",
              "      <td>0.809158</td>\n",
              "      <td>0.617951</td>\n",
              "      <td>0.245483</td>\n",
              "      <td>0.382612</td>\n",
              "      <td>2.430182</td>\n",
              "    </tr>\n",
              "  </tbody>\n",
              "</table>\n",
              "</div>"
            ],
            "text/plain": [
              "       Country  ...  Dystopia.Residual\n",
              "0       Norway  ...           2.277027\n",
              "1      Denmark  ...           2.313707\n",
              "2      Iceland  ...           2.322715\n",
              "3  Switzerland  ...           2.276716\n",
              "4      Finland  ...           2.430182\n",
              "\n",
              "[5 rows x 12 columns]"
            ]
          },
          "metadata": {
            "tags": []
          },
          "execution_count": 7
        }
      ]
    },
    {
      "cell_type": "code",
      "metadata": {
        "id": "nCFMT6Ykk-I4"
      },
      "source": [
        "country=h2017[h2017.columns[0]]\n",
        "data= h2017.iloc[:,2:]"
      ],
      "execution_count": null,
      "outputs": []
    },
    {
      "cell_type": "code",
      "metadata": {
        "colab": {
          "base_uri": "https://localhost:8080/",
          "height": 224
        },
        "id": "cfMr-ngllIjp",
        "outputId": "99c71910-9b1c-4aee-fadc-12716bf19efe"
      },
      "source": [
        "data.head()"
      ],
      "execution_count": null,
      "outputs": [
        {
          "output_type": "execute_result",
          "data": {
            "text/html": [
              "<div>\n",
              "<style scoped>\n",
              "    .dataframe tbody tr th:only-of-type {\n",
              "        vertical-align: middle;\n",
              "    }\n",
              "\n",
              "    .dataframe tbody tr th {\n",
              "        vertical-align: top;\n",
              "    }\n",
              "\n",
              "    .dataframe thead th {\n",
              "        text-align: right;\n",
              "    }\n",
              "</style>\n",
              "<table border=\"1\" class=\"dataframe\">\n",
              "  <thead>\n",
              "    <tr style=\"text-align: right;\">\n",
              "      <th></th>\n",
              "      <th>Happiness.Score</th>\n",
              "      <th>Whisker.high</th>\n",
              "      <th>Whisker.low</th>\n",
              "      <th>Economy..GDP.per.Capita.</th>\n",
              "      <th>Family</th>\n",
              "      <th>Health..Life.Expectancy.</th>\n",
              "      <th>Freedom</th>\n",
              "      <th>Generosity</th>\n",
              "      <th>Trust..Government.Corruption.</th>\n",
              "      <th>Dystopia.Residual</th>\n",
              "    </tr>\n",
              "  </thead>\n",
              "  <tbody>\n",
              "    <tr>\n",
              "      <th>0</th>\n",
              "      <td>7.537</td>\n",
              "      <td>7.594445</td>\n",
              "      <td>7.479556</td>\n",
              "      <td>1.616463</td>\n",
              "      <td>1.533524</td>\n",
              "      <td>0.796667</td>\n",
              "      <td>0.635423</td>\n",
              "      <td>0.362012</td>\n",
              "      <td>0.315964</td>\n",
              "      <td>2.277027</td>\n",
              "    </tr>\n",
              "    <tr>\n",
              "      <th>1</th>\n",
              "      <td>7.522</td>\n",
              "      <td>7.581728</td>\n",
              "      <td>7.462272</td>\n",
              "      <td>1.482383</td>\n",
              "      <td>1.551122</td>\n",
              "      <td>0.792566</td>\n",
              "      <td>0.626007</td>\n",
              "      <td>0.355280</td>\n",
              "      <td>0.400770</td>\n",
              "      <td>2.313707</td>\n",
              "    </tr>\n",
              "    <tr>\n",
              "      <th>2</th>\n",
              "      <td>7.504</td>\n",
              "      <td>7.622030</td>\n",
              "      <td>7.385970</td>\n",
              "      <td>1.480633</td>\n",
              "      <td>1.610574</td>\n",
              "      <td>0.833552</td>\n",
              "      <td>0.627163</td>\n",
              "      <td>0.475540</td>\n",
              "      <td>0.153527</td>\n",
              "      <td>2.322715</td>\n",
              "    </tr>\n",
              "    <tr>\n",
              "      <th>3</th>\n",
              "      <td>7.494</td>\n",
              "      <td>7.561772</td>\n",
              "      <td>7.426227</td>\n",
              "      <td>1.564980</td>\n",
              "      <td>1.516912</td>\n",
              "      <td>0.858131</td>\n",
              "      <td>0.620071</td>\n",
              "      <td>0.290549</td>\n",
              "      <td>0.367007</td>\n",
              "      <td>2.276716</td>\n",
              "    </tr>\n",
              "    <tr>\n",
              "      <th>4</th>\n",
              "      <td>7.469</td>\n",
              "      <td>7.527542</td>\n",
              "      <td>7.410458</td>\n",
              "      <td>1.443572</td>\n",
              "      <td>1.540247</td>\n",
              "      <td>0.809158</td>\n",
              "      <td>0.617951</td>\n",
              "      <td>0.245483</td>\n",
              "      <td>0.382612</td>\n",
              "      <td>2.430182</td>\n",
              "    </tr>\n",
              "  </tbody>\n",
              "</table>\n",
              "</div>"
            ],
            "text/plain": [
              "   Happiness.Score  ...  Dystopia.Residual\n",
              "0            7.537  ...           2.277027\n",
              "1            7.522  ...           2.313707\n",
              "2            7.504  ...           2.322715\n",
              "3            7.494  ...           2.276716\n",
              "4            7.469  ...           2.430182\n",
              "\n",
              "[5 rows x 10 columns]"
            ]
          },
          "metadata": {
            "tags": []
          },
          "execution_count": 9
        }
      ]
    },
    {
      "cell_type": "code",
      "metadata": {
        "colab": {
          "base_uri": "https://localhost:8080/",
          "height": 17
        },
        "id": "-PhxZXNClsLl",
        "outputId": "efb78919-4585-488f-cc89-85e4c3598e76"
      },
      "source": [
        "import numpy as np                   # Data manipulation\n",
        "import pandas as pd                  # DataFrame manipulation\n",
        "import time                          # To time processes \n",
        "import warnings                      # To suppress warnings\n",
        "import matplotlib.pyplot as plt      # For Graphics\n",
        "import seaborn as sns\n",
        "from sklearn import cluster, mixture              # For clustering\n",
        "from sklearn.preprocessing import StandardScaler  # For scaling dataset\n",
        "from sklearn.neighbors import kneighbors_graph\n",
        "from itertools import cycle, islice\n",
        "\n",
        "import os                     # For os related operations\n",
        "import sys                    # For data size\n",
        "\n",
        "\n",
        "import plotly.graph_objs as go\n",
        "from plotly.offline import download_plotlyjs, init_notebook_mode, plot, iplot\n",
        "init_notebook_mode(connected=True)"
      ],
      "execution_count": 34,
      "outputs": [
        {
          "output_type": "display_data",
          "data": {
            "text/html": [
              "        <script type=\"text/javascript\">\n",
              "        window.PlotlyConfig = {MathJaxConfig: 'local'};\n",
              "        if (window.MathJax) {MathJax.Hub.Config({SVG: {font: \"STIX-Web\"}});}\n",
              "        if (typeof require !== 'undefined') {\n",
              "        require.undef(\"plotly\");\n",
              "        requirejs.config({\n",
              "            paths: {\n",
              "                'plotly': ['https://cdn.plot.ly/plotly-latest.min']\n",
              "            }\n",
              "        });\n",
              "        require(['plotly'], function(Plotly) {\n",
              "            window._Plotly = Plotly;\n",
              "        });\n",
              "        }\n",
              "        </script>\n",
              "        "
            ]
          },
          "metadata": {
            "tags": []
          }
        }
      ]
    },
    {
      "cell_type": "code",
      "metadata": {
        "id": "Fg6qyuljBr8-"
      },
      "source": [
        "finaldf.drop(['Country','target', 'Happiness Rank','Year','target_n'],axis=1,inplace=True)\n",
        "finaldf.head(3)"
      ],
      "execution_count": null,
      "outputs": []
    },
    {
      "cell_type": "code",
      "metadata": {
        "colab": {
          "base_uri": "https://localhost:8080/",
          "height": 142
        },
        "id": "3-EAbZ_1CZPA",
        "outputId": "85d185e0-a43a-44ab-c392-cbdcb6a71a91"
      },
      "source": [
        "finaldf.drop(['Year','target_n'],axis=1,inplace=True)\n",
        "finaldf.head(3)"
      ],
      "execution_count": 40,
      "outputs": [
        {
          "output_type": "execute_result",
          "data": {
            "text/html": [
              "<div>\n",
              "<style scoped>\n",
              "    .dataframe tbody tr th:only-of-type {\n",
              "        vertical-align: middle;\n",
              "    }\n",
              "\n",
              "    .dataframe tbody tr th {\n",
              "        vertical-align: top;\n",
              "    }\n",
              "\n",
              "    .dataframe thead th {\n",
              "        text-align: right;\n",
              "    }\n",
              "</style>\n",
              "<table border=\"1\" class=\"dataframe\">\n",
              "  <thead>\n",
              "    <tr style=\"text-align: right;\">\n",
              "      <th></th>\n",
              "      <th>Happiness Score</th>\n",
              "      <th>Economy</th>\n",
              "      <th>Family</th>\n",
              "      <th>Health</th>\n",
              "      <th>Freedom</th>\n",
              "      <th>Trust</th>\n",
              "      <th>Generosity</th>\n",
              "      <th>Kmeans</th>\n",
              "    </tr>\n",
              "  </thead>\n",
              "  <tbody>\n",
              "    <tr>\n",
              "      <th>0</th>\n",
              "      <td>7.587</td>\n",
              "      <td>1.39651</td>\n",
              "      <td>1.34951</td>\n",
              "      <td>0.94143</td>\n",
              "      <td>0.66557</td>\n",
              "      <td>0.41978</td>\n",
              "      <td>0.29678</td>\n",
              "      <td>1</td>\n",
              "    </tr>\n",
              "    <tr>\n",
              "      <th>1</th>\n",
              "      <td>7.561</td>\n",
              "      <td>1.30232</td>\n",
              "      <td>1.40223</td>\n",
              "      <td>0.94784</td>\n",
              "      <td>0.62877</td>\n",
              "      <td>0.14145</td>\n",
              "      <td>0.43630</td>\n",
              "      <td>1</td>\n",
              "    </tr>\n",
              "    <tr>\n",
              "      <th>2</th>\n",
              "      <td>7.527</td>\n",
              "      <td>1.32548</td>\n",
              "      <td>1.36058</td>\n",
              "      <td>0.87464</td>\n",
              "      <td>0.64938</td>\n",
              "      <td>0.48357</td>\n",
              "      <td>0.34139</td>\n",
              "      <td>1</td>\n",
              "    </tr>\n",
              "  </tbody>\n",
              "</table>\n",
              "</div>"
            ],
            "text/plain": [
              "   Happiness Score  Economy   Family  ...    Trust  Generosity  Kmeans\n",
              "0            7.587  1.39651  1.34951  ...  0.41978     0.29678       1\n",
              "1            7.561  1.30232  1.40223  ...  0.14145     0.43630       1\n",
              "2            7.527  1.32548  1.36058  ...  0.48357     0.34139       1\n",
              "\n",
              "[3 rows x 8 columns]"
            ]
          },
          "metadata": {
            "tags": []
          },
          "execution_count": 40
        }
      ]
    },
    {
      "cell_type": "code",
      "metadata": {
        "colab": {
          "base_uri": "https://localhost:8080/",
          "height": 357
        },
        "id": "EsMeAivllGtH",
        "outputId": "82ee4c57-d7d4-4451-80be-f5b0b5ca1fef"
      },
      "source": [
        "def normalizedData(x):\n",
        "    normalised = StandardScaler()\n",
        "    normalised.fit_transform(x)\n",
        "    return(x)\n",
        "    \n",
        "data = normalizedData(finaldf)    \n",
        "\n",
        "n_clusters=3\n",
        "def Kmeans(x, y):\n",
        "    km= cluster.KMeans(x)\n",
        "    km_result=km.fit_predict(y)\n",
        "    return(km_result)\n",
        "   \n",
        "km_result = Kmeans(3,data)\n",
        "data['Kmeans'] = pd.DataFrame(km_result)\n",
        "plt.scatter(data.iloc[:, 0], data.iloc[:, 9],  c=km_result)\n",
        "plt.show()      \n"
      ],
      "execution_count": 41,
      "outputs": [
        {
          "output_type": "error",
          "ename": "IndexError",
          "evalue": "ignored",
          "traceback": [
            "\u001b[0;31m---------------------------------------------------------------------------\u001b[0m",
            "\u001b[0;31mIndexError\u001b[0m                                Traceback (most recent call last)",
            "\u001b[0;32m<ipython-input-41-3bfc2a2f83d1>\u001b[0m in \u001b[0;36m<module>\u001b[0;34m()\u001b[0m\n\u001b[1;32m     14\u001b[0m \u001b[0mkm_result\u001b[0m \u001b[0;34m=\u001b[0m \u001b[0mKmeans\u001b[0m\u001b[0;34m(\u001b[0m\u001b[0;36m3\u001b[0m\u001b[0;34m,\u001b[0m\u001b[0mdata\u001b[0m\u001b[0;34m)\u001b[0m\u001b[0;34m\u001b[0m\u001b[0;34m\u001b[0m\u001b[0m\n\u001b[1;32m     15\u001b[0m \u001b[0mdata\u001b[0m\u001b[0;34m[\u001b[0m\u001b[0;34m'Kmeans'\u001b[0m\u001b[0;34m]\u001b[0m \u001b[0;34m=\u001b[0m \u001b[0mpd\u001b[0m\u001b[0;34m.\u001b[0m\u001b[0mDataFrame\u001b[0m\u001b[0;34m(\u001b[0m\u001b[0mkm_result\u001b[0m\u001b[0;34m)\u001b[0m\u001b[0;34m\u001b[0m\u001b[0;34m\u001b[0m\u001b[0m\n\u001b[0;32m---> 16\u001b[0;31m \u001b[0mplt\u001b[0m\u001b[0;34m.\u001b[0m\u001b[0mscatter\u001b[0m\u001b[0;34m(\u001b[0m\u001b[0mdata\u001b[0m\u001b[0;34m.\u001b[0m\u001b[0miloc\u001b[0m\u001b[0;34m[\u001b[0m\u001b[0;34m:\u001b[0m\u001b[0;34m,\u001b[0m \u001b[0;36m0\u001b[0m\u001b[0;34m]\u001b[0m\u001b[0;34m,\u001b[0m \u001b[0mdata\u001b[0m\u001b[0;34m.\u001b[0m\u001b[0miloc\u001b[0m\u001b[0;34m[\u001b[0m\u001b[0;34m:\u001b[0m\u001b[0;34m,\u001b[0m \u001b[0;36m9\u001b[0m\u001b[0;34m]\u001b[0m\u001b[0;34m,\u001b[0m  \u001b[0mc\u001b[0m\u001b[0;34m=\u001b[0m\u001b[0mkm_result\u001b[0m\u001b[0;34m)\u001b[0m\u001b[0;34m\u001b[0m\u001b[0;34m\u001b[0m\u001b[0m\n\u001b[0m\u001b[1;32m     17\u001b[0m \u001b[0mplt\u001b[0m\u001b[0;34m.\u001b[0m\u001b[0mshow\u001b[0m\u001b[0;34m(\u001b[0m\u001b[0;34m)\u001b[0m\u001b[0;34m\u001b[0m\u001b[0;34m\u001b[0m\u001b[0m\n",
            "\u001b[0;32m/usr/local/lib/python3.7/dist-packages/pandas/core/indexing.py\u001b[0m in \u001b[0;36m__getitem__\u001b[0;34m(self, key)\u001b[0m\n\u001b[1;32m    871\u001b[0m                     \u001b[0;31m# AttributeError for IntervalTree get_value\u001b[0m\u001b[0;34m\u001b[0m\u001b[0;34m\u001b[0m\u001b[0;34m\u001b[0m\u001b[0m\n\u001b[1;32m    872\u001b[0m                     \u001b[0;32mpass\u001b[0m\u001b[0;34m\u001b[0m\u001b[0;34m\u001b[0m\u001b[0m\n\u001b[0;32m--> 873\u001b[0;31m             \u001b[0;32mreturn\u001b[0m \u001b[0mself\u001b[0m\u001b[0;34m.\u001b[0m\u001b[0m_getitem_tuple\u001b[0m\u001b[0;34m(\u001b[0m\u001b[0mkey\u001b[0m\u001b[0;34m)\u001b[0m\u001b[0;34m\u001b[0m\u001b[0;34m\u001b[0m\u001b[0m\n\u001b[0m\u001b[1;32m    874\u001b[0m         \u001b[0;32melse\u001b[0m\u001b[0;34m:\u001b[0m\u001b[0;34m\u001b[0m\u001b[0;34m\u001b[0m\u001b[0m\n\u001b[1;32m    875\u001b[0m             \u001b[0;31m# we by definition only have the 0th axis\u001b[0m\u001b[0;34m\u001b[0m\u001b[0;34m\u001b[0m\u001b[0;34m\u001b[0m\u001b[0m\n",
            "\u001b[0;32m/usr/local/lib/python3.7/dist-packages/pandas/core/indexing.py\u001b[0m in \u001b[0;36m_getitem_tuple\u001b[0;34m(self, tup)\u001b[0m\n\u001b[1;32m   1441\u001b[0m     \u001b[0;32mdef\u001b[0m \u001b[0m_getitem_tuple\u001b[0m\u001b[0;34m(\u001b[0m\u001b[0mself\u001b[0m\u001b[0;34m,\u001b[0m \u001b[0mtup\u001b[0m\u001b[0;34m:\u001b[0m \u001b[0mTuple\u001b[0m\u001b[0;34m)\u001b[0m\u001b[0;34m:\u001b[0m\u001b[0;34m\u001b[0m\u001b[0;34m\u001b[0m\u001b[0m\n\u001b[1;32m   1442\u001b[0m \u001b[0;34m\u001b[0m\u001b[0m\n\u001b[0;32m-> 1443\u001b[0;31m         \u001b[0mself\u001b[0m\u001b[0;34m.\u001b[0m\u001b[0m_has_valid_tuple\u001b[0m\u001b[0;34m(\u001b[0m\u001b[0mtup\u001b[0m\u001b[0;34m)\u001b[0m\u001b[0;34m\u001b[0m\u001b[0;34m\u001b[0m\u001b[0m\n\u001b[0m\u001b[1;32m   1444\u001b[0m         \u001b[0;32mtry\u001b[0m\u001b[0;34m:\u001b[0m\u001b[0;34m\u001b[0m\u001b[0;34m\u001b[0m\u001b[0m\n\u001b[1;32m   1445\u001b[0m             \u001b[0;32mreturn\u001b[0m \u001b[0mself\u001b[0m\u001b[0;34m.\u001b[0m\u001b[0m_getitem_lowerdim\u001b[0m\u001b[0;34m(\u001b[0m\u001b[0mtup\u001b[0m\u001b[0;34m)\u001b[0m\u001b[0;34m\u001b[0m\u001b[0;34m\u001b[0m\u001b[0m\n",
            "\u001b[0;32m/usr/local/lib/python3.7/dist-packages/pandas/core/indexing.py\u001b[0m in \u001b[0;36m_has_valid_tuple\u001b[0;34m(self, key)\u001b[0m\n\u001b[1;32m    700\u001b[0m                 \u001b[0;32mraise\u001b[0m \u001b[0mIndexingError\u001b[0m\u001b[0;34m(\u001b[0m\u001b[0;34m\"Too many indexers\"\u001b[0m\u001b[0;34m)\u001b[0m\u001b[0;34m\u001b[0m\u001b[0;34m\u001b[0m\u001b[0m\n\u001b[1;32m    701\u001b[0m             \u001b[0;32mtry\u001b[0m\u001b[0;34m:\u001b[0m\u001b[0;34m\u001b[0m\u001b[0;34m\u001b[0m\u001b[0m\n\u001b[0;32m--> 702\u001b[0;31m                 \u001b[0mself\u001b[0m\u001b[0;34m.\u001b[0m\u001b[0m_validate_key\u001b[0m\u001b[0;34m(\u001b[0m\u001b[0mk\u001b[0m\u001b[0;34m,\u001b[0m \u001b[0mi\u001b[0m\u001b[0;34m)\u001b[0m\u001b[0;34m\u001b[0m\u001b[0;34m\u001b[0m\u001b[0m\n\u001b[0m\u001b[1;32m    703\u001b[0m             \u001b[0;32mexcept\u001b[0m \u001b[0mValueError\u001b[0m \u001b[0;32mas\u001b[0m \u001b[0merr\u001b[0m\u001b[0;34m:\u001b[0m\u001b[0;34m\u001b[0m\u001b[0;34m\u001b[0m\u001b[0m\n\u001b[1;32m    704\u001b[0m                 raise ValueError(\n",
            "\u001b[0;32m/usr/local/lib/python3.7/dist-packages/pandas/core/indexing.py\u001b[0m in \u001b[0;36m_validate_key\u001b[0;34m(self, key, axis)\u001b[0m\n\u001b[1;32m   1350\u001b[0m             \u001b[0;32mreturn\u001b[0m\u001b[0;34m\u001b[0m\u001b[0;34m\u001b[0m\u001b[0m\n\u001b[1;32m   1351\u001b[0m         \u001b[0;32melif\u001b[0m \u001b[0mis_integer\u001b[0m\u001b[0;34m(\u001b[0m\u001b[0mkey\u001b[0m\u001b[0;34m)\u001b[0m\u001b[0;34m:\u001b[0m\u001b[0;34m\u001b[0m\u001b[0;34m\u001b[0m\u001b[0m\n\u001b[0;32m-> 1352\u001b[0;31m             \u001b[0mself\u001b[0m\u001b[0;34m.\u001b[0m\u001b[0m_validate_integer\u001b[0m\u001b[0;34m(\u001b[0m\u001b[0mkey\u001b[0m\u001b[0;34m,\u001b[0m \u001b[0maxis\u001b[0m\u001b[0;34m)\u001b[0m\u001b[0;34m\u001b[0m\u001b[0;34m\u001b[0m\u001b[0m\n\u001b[0m\u001b[1;32m   1353\u001b[0m         \u001b[0;32melif\u001b[0m \u001b[0misinstance\u001b[0m\u001b[0;34m(\u001b[0m\u001b[0mkey\u001b[0m\u001b[0;34m,\u001b[0m \u001b[0mtuple\u001b[0m\u001b[0;34m)\u001b[0m\u001b[0;34m:\u001b[0m\u001b[0;34m\u001b[0m\u001b[0;34m\u001b[0m\u001b[0m\n\u001b[1;32m   1354\u001b[0m             \u001b[0;31m# a tuple should already have been caught by this point\u001b[0m\u001b[0;34m\u001b[0m\u001b[0;34m\u001b[0m\u001b[0;34m\u001b[0m\u001b[0m\n",
            "\u001b[0;32m/usr/local/lib/python3.7/dist-packages/pandas/core/indexing.py\u001b[0m in \u001b[0;36m_validate_integer\u001b[0;34m(self, key, axis)\u001b[0m\n\u001b[1;32m   1435\u001b[0m         \u001b[0mlen_axis\u001b[0m \u001b[0;34m=\u001b[0m \u001b[0mlen\u001b[0m\u001b[0;34m(\u001b[0m\u001b[0mself\u001b[0m\u001b[0;34m.\u001b[0m\u001b[0mobj\u001b[0m\u001b[0;34m.\u001b[0m\u001b[0m_get_axis\u001b[0m\u001b[0;34m(\u001b[0m\u001b[0maxis\u001b[0m\u001b[0;34m)\u001b[0m\u001b[0;34m)\u001b[0m\u001b[0;34m\u001b[0m\u001b[0;34m\u001b[0m\u001b[0m\n\u001b[1;32m   1436\u001b[0m         \u001b[0;32mif\u001b[0m \u001b[0mkey\u001b[0m \u001b[0;34m>=\u001b[0m \u001b[0mlen_axis\u001b[0m \u001b[0;32mor\u001b[0m \u001b[0mkey\u001b[0m \u001b[0;34m<\u001b[0m \u001b[0;34m-\u001b[0m\u001b[0mlen_axis\u001b[0m\u001b[0;34m:\u001b[0m\u001b[0;34m\u001b[0m\u001b[0;34m\u001b[0m\u001b[0m\n\u001b[0;32m-> 1437\u001b[0;31m             \u001b[0;32mraise\u001b[0m \u001b[0mIndexError\u001b[0m\u001b[0;34m(\u001b[0m\u001b[0;34m\"single positional indexer is out-of-bounds\"\u001b[0m\u001b[0;34m)\u001b[0m\u001b[0;34m\u001b[0m\u001b[0;34m\u001b[0m\u001b[0m\n\u001b[0m\u001b[1;32m   1438\u001b[0m \u001b[0;34m\u001b[0m\u001b[0m\n\u001b[1;32m   1439\u001b[0m     \u001b[0;31m# -------------------------------------------------------------------\u001b[0m\u001b[0;34m\u001b[0m\u001b[0;34m\u001b[0m\u001b[0;34m\u001b[0m\u001b[0m\n",
            "\u001b[0;31mIndexError\u001b[0m: single positional indexer is out-of-bounds"
          ]
        }
      ]
    },
    {
      "cell_type": "markdown",
      "metadata": {
        "id": "4fN6fDzIv2ku"
      },
      "source": [
        "Clustering - Trial 2\n"
      ]
    },
    {
      "cell_type": "code",
      "metadata": {
        "colab": {
          "base_uri": "https://localhost:8080/",
          "height": 17
        },
        "id": "WD5fCDAXznET",
        "outputId": "2d19d858-10cb-4f24-f2c4-3ae56c9222e2"
      },
      "source": [
        "import numpy as np # linear algebra\n",
        "import pandas as pd # data processing, CSV file I/O (e.g. pd.read_csv)\n",
        "import time                          # To time processes \n",
        "import warnings                      # To suppress warnings\n",
        "import matplotlib.pyplot as plt      # For Graphics\n",
        "import seaborn as sns\n",
        "from sklearn import cluster, mixture # For clustering \n",
        "from sklearn.preprocessing import StandardScaler\n",
        "\n",
        "import plotly.graph_objs as go\n",
        "from plotly.offline import download_plotlyjs, init_notebook_mode, plot, iplot\n",
        "init_notebook_mode(connected=True)\n",
        "%matplotlib inline\n",
        "warnings.filterwarnings('ignore')"
      ],
      "execution_count": null,
      "outputs": [
        {
          "output_type": "display_data",
          "data": {
            "text/html": [
              "        <script type=\"text/javascript\">\n",
              "        window.PlotlyConfig = {MathJaxConfig: 'local'};\n",
              "        if (window.MathJax) {MathJax.Hub.Config({SVG: {font: \"STIX-Web\"}});}\n",
              "        if (typeof require !== 'undefined') {\n",
              "        require.undef(\"plotly\");\n",
              "        requirejs.config({\n",
              "            paths: {\n",
              "                'plotly': ['https://cdn.plot.ly/plotly-latest.min']\n",
              "            }\n",
              "        });\n",
              "        require(['plotly'], function(Plotly) {\n",
              "            window._Plotly = Plotly;\n",
              "        });\n",
              "        }\n",
              "        </script>\n",
              "        "
            ]
          },
          "metadata": {
            "tags": []
          }
        }
      ]
    },
    {
      "cell_type": "code",
      "metadata": {
        "colab": {
          "base_uri": "https://localhost:8080/",
          "height": 224
        },
        "id": "5ke1lx3QwJp-",
        "outputId": "2152c8d1-4818-4bbc-992f-6444920f9517"
      },
      "source": [
        "data = pd.read_csv('2017.csv')\n",
        "data.head()"
      ],
      "execution_count": null,
      "outputs": [
        {
          "output_type": "execute_result",
          "data": {
            "text/html": [
              "<div>\n",
              "<style scoped>\n",
              "    .dataframe tbody tr th:only-of-type {\n",
              "        vertical-align: middle;\n",
              "    }\n",
              "\n",
              "    .dataframe tbody tr th {\n",
              "        vertical-align: top;\n",
              "    }\n",
              "\n",
              "    .dataframe thead th {\n",
              "        text-align: right;\n",
              "    }\n",
              "</style>\n",
              "<table border=\"1\" class=\"dataframe\">\n",
              "  <thead>\n",
              "    <tr style=\"text-align: right;\">\n",
              "      <th></th>\n",
              "      <th>Country</th>\n",
              "      <th>Happiness.Rank</th>\n",
              "      <th>Happiness.Score</th>\n",
              "      <th>Whisker.high</th>\n",
              "      <th>Whisker.low</th>\n",
              "      <th>Economy..GDP.per.Capita.</th>\n",
              "      <th>Family</th>\n",
              "      <th>Health..Life.Expectancy.</th>\n",
              "      <th>Freedom</th>\n",
              "      <th>Generosity</th>\n",
              "      <th>Trust..Government.Corruption.</th>\n",
              "      <th>Dystopia.Residual</th>\n",
              "    </tr>\n",
              "  </thead>\n",
              "  <tbody>\n",
              "    <tr>\n",
              "      <th>0</th>\n",
              "      <td>Norway</td>\n",
              "      <td>1</td>\n",
              "      <td>7.537</td>\n",
              "      <td>7.594445</td>\n",
              "      <td>7.479556</td>\n",
              "      <td>1.616463</td>\n",
              "      <td>1.533524</td>\n",
              "      <td>0.796667</td>\n",
              "      <td>0.635423</td>\n",
              "      <td>0.362012</td>\n",
              "      <td>0.315964</td>\n",
              "      <td>2.277027</td>\n",
              "    </tr>\n",
              "    <tr>\n",
              "      <th>1</th>\n",
              "      <td>Denmark</td>\n",
              "      <td>2</td>\n",
              "      <td>7.522</td>\n",
              "      <td>7.581728</td>\n",
              "      <td>7.462272</td>\n",
              "      <td>1.482383</td>\n",
              "      <td>1.551122</td>\n",
              "      <td>0.792566</td>\n",
              "      <td>0.626007</td>\n",
              "      <td>0.355280</td>\n",
              "      <td>0.400770</td>\n",
              "      <td>2.313707</td>\n",
              "    </tr>\n",
              "    <tr>\n",
              "      <th>2</th>\n",
              "      <td>Iceland</td>\n",
              "      <td>3</td>\n",
              "      <td>7.504</td>\n",
              "      <td>7.622030</td>\n",
              "      <td>7.385970</td>\n",
              "      <td>1.480633</td>\n",
              "      <td>1.610574</td>\n",
              "      <td>0.833552</td>\n",
              "      <td>0.627163</td>\n",
              "      <td>0.475540</td>\n",
              "      <td>0.153527</td>\n",
              "      <td>2.322715</td>\n",
              "    </tr>\n",
              "    <tr>\n",
              "      <th>3</th>\n",
              "      <td>Switzerland</td>\n",
              "      <td>4</td>\n",
              "      <td>7.494</td>\n",
              "      <td>7.561772</td>\n",
              "      <td>7.426227</td>\n",
              "      <td>1.564980</td>\n",
              "      <td>1.516912</td>\n",
              "      <td>0.858131</td>\n",
              "      <td>0.620071</td>\n",
              "      <td>0.290549</td>\n",
              "      <td>0.367007</td>\n",
              "      <td>2.276716</td>\n",
              "    </tr>\n",
              "    <tr>\n",
              "      <th>4</th>\n",
              "      <td>Finland</td>\n",
              "      <td>5</td>\n",
              "      <td>7.469</td>\n",
              "      <td>7.527542</td>\n",
              "      <td>7.410458</td>\n",
              "      <td>1.443572</td>\n",
              "      <td>1.540247</td>\n",
              "      <td>0.809158</td>\n",
              "      <td>0.617951</td>\n",
              "      <td>0.245483</td>\n",
              "      <td>0.382612</td>\n",
              "      <td>2.430182</td>\n",
              "    </tr>\n",
              "  </tbody>\n",
              "</table>\n",
              "</div>"
            ],
            "text/plain": [
              "       Country  ...  Dystopia.Residual\n",
              "0       Norway  ...           2.277027\n",
              "1      Denmark  ...           2.313707\n",
              "2      Iceland  ...           2.322715\n",
              "3  Switzerland  ...           2.276716\n",
              "4      Finland  ...           2.430182\n",
              "\n",
              "[5 rows x 12 columns]"
            ]
          },
          "metadata": {
            "tags": []
          },
          "execution_count": 17
        }
      ]
    },
    {
      "cell_type": "code",
      "metadata": {
        "colab": {
          "base_uri": "https://localhost:8080/"
        },
        "id": "iJG4j0EHv0j3",
        "outputId": "498051a9-b6b7-4472-bb8f-1148d064423c"
      },
      "source": [
        "# Data Preprocessing\n",
        "# check if there are any null values in the data set\n",
        "data.isnull().any()   \n"
      ],
      "execution_count": null,
      "outputs": [
        {
          "output_type": "execute_result",
          "data": {
            "text/plain": [
              "Country                          False\n",
              "Happiness.Rank                   False\n",
              "Happiness.Score                  False\n",
              "Whisker.high                     False\n",
              "Whisker.low                      False\n",
              "Economy..GDP.per.Capita.         False\n",
              "Family                           False\n",
              "Health..Life.Expectancy.         False\n",
              "Freedom                          False\n",
              "Generosity                       False\n",
              "Trust..Government.Corruption.    False\n",
              "Dystopia.Residual                False\n",
              "dtype: bool"
            ]
          },
          "metadata": {
            "tags": []
          },
          "execution_count": 18
        }
      ]
    },
    {
      "cell_type": "code",
      "metadata": {
        "id": "-S_LTIMSxREy"
      },
      "source": [
        "#rename column names\n",
        "data=data.rename(columns={'Economy..GDP.per.Capita.':'Economy_GDP_Per_Capita',\n",
        "                          'Health..Life.Expectancy.':'Health_Life_Expectancy',\n",
        "                          'Trust..Government.Corruption.':'Trust_Government_Corruption',\n",
        "                          'Happiness.Rank':'Happiness_Rank','Happiness.Score':'Happiness_Score'})"
      ],
      "execution_count": null,
      "outputs": []
    },
    {
      "cell_type": "code",
      "metadata": {
        "colab": {
          "base_uri": "https://localhost:8080/"
        },
        "id": "Hk3A51c5ynET",
        "outputId": "a9d6fdea-5a95-41fc-8b1d-a29e54c1bde0"
      },
      "source": [
        "data.columns"
      ],
      "execution_count": null,
      "outputs": [
        {
          "output_type": "execute_result",
          "data": {
            "text/plain": [
              "Index(['Country', 'Happiness_Rank', 'Happiness_Score', 'Whisker.high',\n",
              "       'Whisker.low', 'Economy_GDP_Per_Capita', 'Family',\n",
              "       'Health_Life_Expectancy', 'Freedom', 'Generosity',\n",
              "       'Trust_Government_Corruption', 'Dystopia.Residual'],\n",
              "      dtype='object')"
            ]
          },
          "metadata": {
            "tags": []
          },
          "execution_count": 27
        }
      ]
    },
    {
      "cell_type": "code",
      "metadata": {
        "colab": {
          "base_uri": "https://localhost:8080/",
          "height": 224
        },
        "id": "dFv7aFAUzpc5",
        "outputId": "3e840803-a4fb-4f7a-ac69-0b48b1693b16"
      },
      "source": [
        "df_wh_map = data\n",
        "df_wh_map.head()"
      ],
      "execution_count": null,
      "outputs": [
        {
          "output_type": "execute_result",
          "data": {
            "text/html": [
              "<div>\n",
              "<style scoped>\n",
              "    .dataframe tbody tr th:only-of-type {\n",
              "        vertical-align: middle;\n",
              "    }\n",
              "\n",
              "    .dataframe tbody tr th {\n",
              "        vertical-align: top;\n",
              "    }\n",
              "\n",
              "    .dataframe thead th {\n",
              "        text-align: right;\n",
              "    }\n",
              "</style>\n",
              "<table border=\"1\" class=\"dataframe\">\n",
              "  <thead>\n",
              "    <tr style=\"text-align: right;\">\n",
              "      <th></th>\n",
              "      <th>Country</th>\n",
              "      <th>Happiness_Rank</th>\n",
              "      <th>Happiness_Score</th>\n",
              "      <th>Whisker.high</th>\n",
              "      <th>Whisker.low</th>\n",
              "      <th>Economy_GDP_Per_Capita</th>\n",
              "      <th>Family</th>\n",
              "      <th>Health_Life_Expectancy</th>\n",
              "      <th>Freedom</th>\n",
              "      <th>Generosity</th>\n",
              "      <th>Trust_Government_Corruption</th>\n",
              "      <th>Dystopia.Residual</th>\n",
              "    </tr>\n",
              "  </thead>\n",
              "  <tbody>\n",
              "    <tr>\n",
              "      <th>0</th>\n",
              "      <td>Norway</td>\n",
              "      <td>1</td>\n",
              "      <td>7.537</td>\n",
              "      <td>7.594445</td>\n",
              "      <td>7.479556</td>\n",
              "      <td>1.616463</td>\n",
              "      <td>1.533524</td>\n",
              "      <td>0.796667</td>\n",
              "      <td>0.635423</td>\n",
              "      <td>0.362012</td>\n",
              "      <td>0.315964</td>\n",
              "      <td>2.277027</td>\n",
              "    </tr>\n",
              "    <tr>\n",
              "      <th>1</th>\n",
              "      <td>Denmark</td>\n",
              "      <td>2</td>\n",
              "      <td>7.522</td>\n",
              "      <td>7.581728</td>\n",
              "      <td>7.462272</td>\n",
              "      <td>1.482383</td>\n",
              "      <td>1.551122</td>\n",
              "      <td>0.792566</td>\n",
              "      <td>0.626007</td>\n",
              "      <td>0.355280</td>\n",
              "      <td>0.400770</td>\n",
              "      <td>2.313707</td>\n",
              "    </tr>\n",
              "    <tr>\n",
              "      <th>2</th>\n",
              "      <td>Iceland</td>\n",
              "      <td>3</td>\n",
              "      <td>7.504</td>\n",
              "      <td>7.622030</td>\n",
              "      <td>7.385970</td>\n",
              "      <td>1.480633</td>\n",
              "      <td>1.610574</td>\n",
              "      <td>0.833552</td>\n",
              "      <td>0.627163</td>\n",
              "      <td>0.475540</td>\n",
              "      <td>0.153527</td>\n",
              "      <td>2.322715</td>\n",
              "    </tr>\n",
              "    <tr>\n",
              "      <th>3</th>\n",
              "      <td>Switzerland</td>\n",
              "      <td>4</td>\n",
              "      <td>7.494</td>\n",
              "      <td>7.561772</td>\n",
              "      <td>7.426227</td>\n",
              "      <td>1.564980</td>\n",
              "      <td>1.516912</td>\n",
              "      <td>0.858131</td>\n",
              "      <td>0.620071</td>\n",
              "      <td>0.290549</td>\n",
              "      <td>0.367007</td>\n",
              "      <td>2.276716</td>\n",
              "    </tr>\n",
              "    <tr>\n",
              "      <th>4</th>\n",
              "      <td>Finland</td>\n",
              "      <td>5</td>\n",
              "      <td>7.469</td>\n",
              "      <td>7.527542</td>\n",
              "      <td>7.410458</td>\n",
              "      <td>1.443572</td>\n",
              "      <td>1.540247</td>\n",
              "      <td>0.809158</td>\n",
              "      <td>0.617951</td>\n",
              "      <td>0.245483</td>\n",
              "      <td>0.382612</td>\n",
              "      <td>2.430182</td>\n",
              "    </tr>\n",
              "  </tbody>\n",
              "</table>\n",
              "</div>"
            ],
            "text/plain": [
              "       Country  Happiness_Rank  ...  Trust_Government_Corruption  Dystopia.Residual\n",
              "0       Norway               1  ...                     0.315964           2.277027\n",
              "1      Denmark               2  ...                     0.400770           2.313707\n",
              "2      Iceland               3  ...                     0.153527           2.322715\n",
              "3  Switzerland               4  ...                     0.367007           2.276716\n",
              "4      Finland               5  ...                     0.382612           2.430182\n",
              "\n",
              "[5 rows x 12 columns]"
            ]
          },
          "metadata": {
            "tags": []
          },
          "execution_count": 29
        }
      ]
    },
    {
      "cell_type": "markdown",
      "metadata": {
        "id": "08E6qXLK0ar-"
      },
      "source": [
        "Clustering is divding data into groups of homogenous or similar data. So that data in same group is more similar to each other and very different from data in other groups. Each group of similar data is called cluster"
      ]
    },
    {
      "cell_type": "markdown",
      "metadata": {
        "id": "6Nm5xoot0rE5"
      },
      "source": [
        "K Means Clustering - K means clustering works by selecting centroids randomly and number of centroids are inputs to clustering algorithm.Once random centroids are selected then distance from each centroid for each observations are calculated and each observation data is allocated to a centroid to which distance of observation is minimum."
      ]
    },
    {
      "cell_type": "code",
      "metadata": {
        "id": "n8AihUgQ0bYq"
      },
      "source": [
        "# Method for K means clustering\n",
        "def kmeans_Clustering(data,numberOfClusters):\n",
        "       #Initializing Kmeans.cluster object was imported from sklearn in begining.\n",
        "       kmeans = cluster.KMeans(n_clusters=numberOfClusters)\n",
        "       # Fitting the input data and getting the cluster labels\n",
        "       cluster_labels = kmeans.fit_predict(data)\n",
        "       # Getting the cluster centers\n",
        "       cluster_centers = kmeans.cluster_centers_\n",
        "       cluster_centers.shape\n",
        "       return cluster_labels, cluster_centers"
      ],
      "execution_count": 27,
      "outputs": []
    },
    {
      "cell_type": "code",
      "metadata": {
        "id": "-u07ugXf1MxY"
      },
      "source": [
        "#We will plots clusters of all the 6 dimensions with 2 dimensions in each 2 dimensional plot\n",
        "#Plot the cluster\n",
        "def plot_cluster(labels,centers,df_wh):\n",
        "    #Getting number of columns\n",
        "    numOfDimensions = df_wh.columns.size\n",
        "    #Number of plots required for 6 dimension with 2 dimensions in each plot\n",
        "    numberOfPlots = int(numOfDimensions/2)\n",
        "    #Number of rows and columns for subplots\n",
        "    fig,ax = plt.subplots(numberOfPlots,1, figsize=(10,10))\n",
        "    for i,j in zip(range(0,numOfDimensions,2),range(0,numberOfPlots)):\n",
        "         ax[j].scatter(df_wh.iloc[:, i], df_wh.iloc[:, i+1], c=labels, s=50, cmap='viridis')\n",
        "         ax[j].scatter(centers[:,i], centers[:, i+1], c='black', s=200, alpha=0.5)\n",
        "         #print(i)\n",
        "    plt.subplots_adjust(bottom=-0.5, top=1.5)\n",
        "    plt.show()"
      ],
      "execution_count": 28,
      "outputs": []
    },
    {
      "cell_type": "code",
      "metadata": {
        "colab": {
          "base_uri": "https://localhost:8080/",
          "height": 323
        },
        "id": "YRadKCA81tyV",
        "outputId": "cb6147d4-8ff9-44dc-9feb-5a643078f77d"
      },
      "source": [
        "labels,centers = kmeans_Clustering(finaldf,3)     \n",
        "plot_cluster(labels,centers,data)"
      ],
      "execution_count": 31,
      "outputs": [
        {
          "output_type": "error",
          "ename": "ValueError",
          "evalue": "ignored",
          "traceback": [
            "\u001b[0;31m---------------------------------------------------------------------------\u001b[0m",
            "\u001b[0;31mValueError\u001b[0m                                Traceback (most recent call last)",
            "\u001b[0;32m<ipython-input-31-8e8cfaaa8ccd>\u001b[0m in \u001b[0;36m<module>\u001b[0;34m()\u001b[0m\n\u001b[0;32m----> 1\u001b[0;31m \u001b[0mlabels\u001b[0m\u001b[0;34m,\u001b[0m\u001b[0mcenters\u001b[0m \u001b[0;34m=\u001b[0m \u001b[0mkmeans_Clustering\u001b[0m\u001b[0;34m(\u001b[0m\u001b[0mfinaldf\u001b[0m\u001b[0;34m,\u001b[0m\u001b[0;36m3\u001b[0m\u001b[0;34m)\u001b[0m\u001b[0;34m\u001b[0m\u001b[0;34m\u001b[0m\u001b[0m\n\u001b[0m\u001b[1;32m      2\u001b[0m \u001b[0mplot_cluster\u001b[0m\u001b[0;34m(\u001b[0m\u001b[0mlabels\u001b[0m\u001b[0;34m,\u001b[0m\u001b[0mcenters\u001b[0m\u001b[0;34m,\u001b[0m\u001b[0mdata\u001b[0m\u001b[0;34m)\u001b[0m\u001b[0;34m\u001b[0m\u001b[0;34m\u001b[0m\u001b[0m\n",
            "\u001b[0;32m<ipython-input-27-e67c3de2ba74>\u001b[0m in \u001b[0;36mkmeans_Clustering\u001b[0;34m(data, numberOfClusters)\u001b[0m\n\u001b[1;32m      4\u001b[0m        \u001b[0mkmeans\u001b[0m \u001b[0;34m=\u001b[0m \u001b[0mcluster\u001b[0m\u001b[0;34m.\u001b[0m\u001b[0mKMeans\u001b[0m\u001b[0;34m(\u001b[0m\u001b[0mn_clusters\u001b[0m\u001b[0;34m=\u001b[0m\u001b[0mnumberOfClusters\u001b[0m\u001b[0;34m)\u001b[0m\u001b[0;34m\u001b[0m\u001b[0;34m\u001b[0m\u001b[0m\n\u001b[1;32m      5\u001b[0m        \u001b[0;31m# Fitting the input data and getting the cluster labels\u001b[0m\u001b[0;34m\u001b[0m\u001b[0;34m\u001b[0m\u001b[0;34m\u001b[0m\u001b[0m\n\u001b[0;32m----> 6\u001b[0;31m        \u001b[0mcluster_labels\u001b[0m \u001b[0;34m=\u001b[0m \u001b[0mkmeans\u001b[0m\u001b[0;34m.\u001b[0m\u001b[0mfit_predict\u001b[0m\u001b[0;34m(\u001b[0m\u001b[0mdata\u001b[0m\u001b[0;34m)\u001b[0m\u001b[0;34m\u001b[0m\u001b[0;34m\u001b[0m\u001b[0m\n\u001b[0m\u001b[1;32m      7\u001b[0m        \u001b[0;31m# Getting the cluster centers\u001b[0m\u001b[0;34m\u001b[0m\u001b[0;34m\u001b[0m\u001b[0;34m\u001b[0m\u001b[0m\n\u001b[1;32m      8\u001b[0m        \u001b[0mcluster_centers\u001b[0m \u001b[0;34m=\u001b[0m \u001b[0mkmeans\u001b[0m\u001b[0;34m.\u001b[0m\u001b[0mcluster_centers_\u001b[0m\u001b[0;34m\u001b[0m\u001b[0;34m\u001b[0m\u001b[0m\n",
            "\u001b[0;32m/usr/local/lib/python3.7/dist-packages/sklearn/cluster/_kmeans.py\u001b[0m in \u001b[0;36mfit_predict\u001b[0;34m(self, X, y, sample_weight)\u001b[0m\n\u001b[1;32m   1006\u001b[0m             \u001b[0mIndex\u001b[0m \u001b[0mof\u001b[0m \u001b[0mthe\u001b[0m \u001b[0mcluster\u001b[0m \u001b[0meach\u001b[0m \u001b[0msample\u001b[0m \u001b[0mbelongs\u001b[0m \u001b[0mto\u001b[0m\u001b[0;34m.\u001b[0m\u001b[0;34m\u001b[0m\u001b[0;34m\u001b[0m\u001b[0m\n\u001b[1;32m   1007\u001b[0m         \"\"\"\n\u001b[0;32m-> 1008\u001b[0;31m         \u001b[0;32mreturn\u001b[0m \u001b[0mself\u001b[0m\u001b[0;34m.\u001b[0m\u001b[0mfit\u001b[0m\u001b[0;34m(\u001b[0m\u001b[0mX\u001b[0m\u001b[0;34m,\u001b[0m \u001b[0msample_weight\u001b[0m\u001b[0;34m=\u001b[0m\u001b[0msample_weight\u001b[0m\u001b[0;34m)\u001b[0m\u001b[0;34m.\u001b[0m\u001b[0mlabels_\u001b[0m\u001b[0;34m\u001b[0m\u001b[0;34m\u001b[0m\u001b[0m\n\u001b[0m\u001b[1;32m   1009\u001b[0m \u001b[0;34m\u001b[0m\u001b[0m\n\u001b[1;32m   1010\u001b[0m     \u001b[0;32mdef\u001b[0m \u001b[0mfit_transform\u001b[0m\u001b[0;34m(\u001b[0m\u001b[0mself\u001b[0m\u001b[0;34m,\u001b[0m \u001b[0mX\u001b[0m\u001b[0;34m,\u001b[0m \u001b[0my\u001b[0m\u001b[0;34m=\u001b[0m\u001b[0;32mNone\u001b[0m\u001b[0;34m,\u001b[0m \u001b[0msample_weight\u001b[0m\u001b[0;34m=\u001b[0m\u001b[0;32mNone\u001b[0m\u001b[0;34m)\u001b[0m\u001b[0;34m:\u001b[0m\u001b[0;34m\u001b[0m\u001b[0;34m\u001b[0m\u001b[0m\n",
            "\u001b[0;32m/usr/local/lib/python3.7/dist-packages/sklearn/cluster/_kmeans.py\u001b[0m in \u001b[0;36mfit\u001b[0;34m(self, X, y, sample_weight)\u001b[0m\n\u001b[1;32m    857\u001b[0m         \u001b[0morder\u001b[0m \u001b[0;34m=\u001b[0m \u001b[0;34m\"C\"\u001b[0m \u001b[0;32mif\u001b[0m \u001b[0mself\u001b[0m\u001b[0;34m.\u001b[0m\u001b[0mcopy_x\u001b[0m \u001b[0;32melse\u001b[0m \u001b[0;32mNone\u001b[0m\u001b[0;34m\u001b[0m\u001b[0;34m\u001b[0m\u001b[0m\n\u001b[1;32m    858\u001b[0m         X = check_array(X, accept_sparse='csr', dtype=[np.float64, np.float32],\n\u001b[0;32m--> 859\u001b[0;31m                         order=order, copy=self.copy_x)\n\u001b[0m\u001b[1;32m    860\u001b[0m         \u001b[0;31m# verify that the number of samples given is larger than k\u001b[0m\u001b[0;34m\u001b[0m\u001b[0;34m\u001b[0m\u001b[0;34m\u001b[0m\u001b[0m\n\u001b[1;32m    861\u001b[0m         \u001b[0;32mif\u001b[0m \u001b[0m_num_samples\u001b[0m\u001b[0;34m(\u001b[0m\u001b[0mX\u001b[0m\u001b[0;34m)\u001b[0m \u001b[0;34m<\u001b[0m \u001b[0mself\u001b[0m\u001b[0;34m.\u001b[0m\u001b[0mn_clusters\u001b[0m\u001b[0;34m:\u001b[0m\u001b[0;34m\u001b[0m\u001b[0;34m\u001b[0m\u001b[0m\n",
            "\u001b[0;32m/usr/local/lib/python3.7/dist-packages/sklearn/utils/validation.py\u001b[0m in \u001b[0;36mcheck_array\u001b[0;34m(array, accept_sparse, accept_large_sparse, dtype, order, copy, force_all_finite, ensure_2d, allow_nd, ensure_min_samples, ensure_min_features, warn_on_dtype, estimator)\u001b[0m\n\u001b[1;32m    529\u001b[0m                     \u001b[0marray\u001b[0m \u001b[0;34m=\u001b[0m \u001b[0marray\u001b[0m\u001b[0;34m.\u001b[0m\u001b[0mastype\u001b[0m\u001b[0;34m(\u001b[0m\u001b[0mdtype\u001b[0m\u001b[0;34m,\u001b[0m \u001b[0mcasting\u001b[0m\u001b[0;34m=\u001b[0m\u001b[0;34m\"unsafe\"\u001b[0m\u001b[0;34m,\u001b[0m \u001b[0mcopy\u001b[0m\u001b[0;34m=\u001b[0m\u001b[0;32mFalse\u001b[0m\u001b[0;34m)\u001b[0m\u001b[0;34m\u001b[0m\u001b[0;34m\u001b[0m\u001b[0m\n\u001b[1;32m    530\u001b[0m                 \u001b[0;32melse\u001b[0m\u001b[0;34m:\u001b[0m\u001b[0;34m\u001b[0m\u001b[0;34m\u001b[0m\u001b[0m\n\u001b[0;32m--> 531\u001b[0;31m                     \u001b[0marray\u001b[0m \u001b[0;34m=\u001b[0m \u001b[0mnp\u001b[0m\u001b[0;34m.\u001b[0m\u001b[0masarray\u001b[0m\u001b[0;34m(\u001b[0m\u001b[0marray\u001b[0m\u001b[0;34m,\u001b[0m \u001b[0morder\u001b[0m\u001b[0;34m=\u001b[0m\u001b[0morder\u001b[0m\u001b[0;34m,\u001b[0m \u001b[0mdtype\u001b[0m\u001b[0;34m=\u001b[0m\u001b[0mdtype\u001b[0m\u001b[0;34m)\u001b[0m\u001b[0;34m\u001b[0m\u001b[0;34m\u001b[0m\u001b[0m\n\u001b[0m\u001b[1;32m    532\u001b[0m             \u001b[0;32mexcept\u001b[0m \u001b[0mComplexWarning\u001b[0m\u001b[0;34m:\u001b[0m\u001b[0;34m\u001b[0m\u001b[0;34m\u001b[0m\u001b[0m\n\u001b[1;32m    533\u001b[0m                 raise ValueError(\"Complex data not supported\\n\"\n",
            "\u001b[0;32m/usr/local/lib/python3.7/dist-packages/numpy/core/_asarray.py\u001b[0m in \u001b[0;36masarray\u001b[0;34m(a, dtype, order)\u001b[0m\n\u001b[1;32m     81\u001b[0m \u001b[0;34m\u001b[0m\u001b[0m\n\u001b[1;32m     82\u001b[0m     \"\"\"\n\u001b[0;32m---> 83\u001b[0;31m     \u001b[0;32mreturn\u001b[0m \u001b[0marray\u001b[0m\u001b[0;34m(\u001b[0m\u001b[0ma\u001b[0m\u001b[0;34m,\u001b[0m \u001b[0mdtype\u001b[0m\u001b[0;34m,\u001b[0m \u001b[0mcopy\u001b[0m\u001b[0;34m=\u001b[0m\u001b[0;32mFalse\u001b[0m\u001b[0;34m,\u001b[0m \u001b[0morder\u001b[0m\u001b[0;34m=\u001b[0m\u001b[0morder\u001b[0m\u001b[0;34m)\u001b[0m\u001b[0;34m\u001b[0m\u001b[0;34m\u001b[0m\u001b[0m\n\u001b[0m\u001b[1;32m     84\u001b[0m \u001b[0;34m\u001b[0m\u001b[0m\n\u001b[1;32m     85\u001b[0m \u001b[0;34m\u001b[0m\u001b[0m\n",
            "\u001b[0;32m/usr/local/lib/python3.7/dist-packages/pandas/core/generic.py\u001b[0m in \u001b[0;36m__array__\u001b[0;34m(self, dtype)\u001b[0m\n\u001b[1;32m   1779\u001b[0m \u001b[0;34m\u001b[0m\u001b[0m\n\u001b[1;32m   1780\u001b[0m     \u001b[0;32mdef\u001b[0m \u001b[0m__array__\u001b[0m\u001b[0;34m(\u001b[0m\u001b[0mself\u001b[0m\u001b[0;34m,\u001b[0m \u001b[0mdtype\u001b[0m\u001b[0;34m=\u001b[0m\u001b[0;32mNone\u001b[0m\u001b[0;34m)\u001b[0m \u001b[0;34m->\u001b[0m \u001b[0mnp\u001b[0m\u001b[0;34m.\u001b[0m\u001b[0mndarray\u001b[0m\u001b[0;34m:\u001b[0m\u001b[0;34m\u001b[0m\u001b[0;34m\u001b[0m\u001b[0m\n\u001b[0;32m-> 1781\u001b[0;31m         \u001b[0;32mreturn\u001b[0m \u001b[0mnp\u001b[0m\u001b[0;34m.\u001b[0m\u001b[0masarray\u001b[0m\u001b[0;34m(\u001b[0m\u001b[0mself\u001b[0m\u001b[0;34m.\u001b[0m\u001b[0m_values\u001b[0m\u001b[0;34m,\u001b[0m \u001b[0mdtype\u001b[0m\u001b[0;34m=\u001b[0m\u001b[0mdtype\u001b[0m\u001b[0;34m)\u001b[0m\u001b[0;34m\u001b[0m\u001b[0;34m\u001b[0m\u001b[0m\n\u001b[0m\u001b[1;32m   1782\u001b[0m \u001b[0;34m\u001b[0m\u001b[0m\n\u001b[1;32m   1783\u001b[0m     \u001b[0;32mdef\u001b[0m \u001b[0m__array_wrap__\u001b[0m\u001b[0;34m(\u001b[0m\u001b[0mself\u001b[0m\u001b[0;34m,\u001b[0m \u001b[0mresult\u001b[0m\u001b[0;34m,\u001b[0m \u001b[0mcontext\u001b[0m\u001b[0;34m=\u001b[0m\u001b[0;32mNone\u001b[0m\u001b[0;34m)\u001b[0m\u001b[0;34m:\u001b[0m\u001b[0;34m\u001b[0m\u001b[0;34m\u001b[0m\u001b[0m\n",
            "\u001b[0;32m/usr/local/lib/python3.7/dist-packages/numpy/core/_asarray.py\u001b[0m in \u001b[0;36masarray\u001b[0;34m(a, dtype, order)\u001b[0m\n\u001b[1;32m     81\u001b[0m \u001b[0;34m\u001b[0m\u001b[0m\n\u001b[1;32m     82\u001b[0m     \"\"\"\n\u001b[0;32m---> 83\u001b[0;31m     \u001b[0;32mreturn\u001b[0m \u001b[0marray\u001b[0m\u001b[0;34m(\u001b[0m\u001b[0ma\u001b[0m\u001b[0;34m,\u001b[0m \u001b[0mdtype\u001b[0m\u001b[0;34m,\u001b[0m \u001b[0mcopy\u001b[0m\u001b[0;34m=\u001b[0m\u001b[0;32mFalse\u001b[0m\u001b[0;34m,\u001b[0m \u001b[0morder\u001b[0m\u001b[0;34m=\u001b[0m\u001b[0morder\u001b[0m\u001b[0;34m)\u001b[0m\u001b[0;34m\u001b[0m\u001b[0;34m\u001b[0m\u001b[0m\n\u001b[0m\u001b[1;32m     84\u001b[0m \u001b[0;34m\u001b[0m\u001b[0m\n\u001b[1;32m     85\u001b[0m \u001b[0;34m\u001b[0m\u001b[0m\n",
            "\u001b[0;31mValueError\u001b[0m: could not convert string to float: 'Switzerland'"
          ]
        }
      ]
    }
  ]
}